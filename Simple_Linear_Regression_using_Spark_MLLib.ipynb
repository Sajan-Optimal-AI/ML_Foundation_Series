{
  "nbformat": 4,
  "nbformat_minor": 0,
  "metadata": {
    "colab": {
      "name": "Simple Linear Regression using Spark MLLib.ipynb",
      "provenance": [],
      "collapsed_sections": []
    },
    "kernelspec": {
      "name": "python3",
      "display_name": "Python 3"
    },
    "language_info": {
      "name": "python"
    }
  },
  "cells": [
    {
      "cell_type": "markdown",
      "source": [
        "# \"Simple Linear Regression\""
      ],
      "metadata": {
        "id": "U7rEcLftBqzW"
      }
    },
    {
      "cell_type": "markdown",
      "source": [
        "Step 1: Instantiate pyspark "
      ],
      "metadata": {
        "id": "U5delHEh1DZT"
      }
    },
    {
      "cell_type": "markdown",
      "source": [
        "Convention_installation"
      ],
      "metadata": {
        "id": "FmaOuqYB291L"
      }
    },
    {
      "cell_type": "code",
      "execution_count": 1,
      "metadata": {
        "id": "4aNVaOA3003A"
      },
      "outputs": [],
      "source": [
        "# Install all the dependencies in Colab environment i.e. Apache Spark 3.2.1 with hadoop 2.7, Java 8 and Findspark to locate the spark in the system\n",
        "!apt-get install openjdk-8-jdk-headless -qq > /dev/null\n",
        "!wget -q http://apache.osuosl.org/spark/spark-3.2.1/spark-3.2.1-bin-hadoop2.7.tgz\n",
        "!tar xf spark-3.2.1-bin-hadoop2.7.tgz\n",
        "!pip install -q findspark"
      ]
    },
    {
      "cell_type": "code",
      "source": [
        "# Setup Environment Variables\n",
        "import os\n",
        "os.environ[\"JAVA_HOME\"] = \"/usr/lib/jvm/java-8-openjdk-amd64\"\n",
        "os.environ[\"SPARK_HOME\"] = \"/content/spark-3.2.1-bin-hadoop2.7\""
      ],
      "metadata": {
        "id": "NLqt0Nfs1ajy"
      },
      "execution_count": 2,
      "outputs": []
    },
    {
      "cell_type": "code",
      "source": [
        "# Start Spark Session\n",
        "import findspark\n",
        "findspark.init()\n",
        "from pyspark.sql import SparkSession\n",
        "spark = SparkSession.builder.master(\"local[*]\").getOrCreate()"
      ],
      "metadata": {
        "id": "VqLUUj4E2F5r"
      },
      "execution_count": 3,
      "outputs": []
    },
    {
      "cell_type": "markdown",
      "source": [
        "Clean_Installation"
      ],
      "metadata": {
        "id": "fKOq6xTZ3EhT"
      }
    },
    {
      "cell_type": "code",
      "source": [
        "!pip install pyspark py4j"
      ],
      "metadata": {
        "colab": {
          "base_uri": "https://localhost:8080/"
        },
        "id": "6FnL4caW2bPE",
        "outputId": "d0981dcb-9967-47c4-bcc3-c237c7100110"
      },
      "execution_count": 1,
      "outputs": [
        {
          "output_type": "stream",
          "name": "stdout",
          "text": [
            "Requirement already satisfied: pyspark in /usr/local/lib/python3.7/dist-packages (3.2.1)\n",
            "Requirement already satisfied: py4j in /usr/local/lib/python3.7/dist-packages (0.10.9.3)\n"
          ]
        }
      ]
    },
    {
      "cell_type": "code",
      "source": [
        "from pyspark.sql import SparkSession\n",
        "spark = SparkSession.builder.master(\"local[*]\").getOrCreate()"
      ],
      "metadata": {
        "id": "W55Yg3W43zCb"
      },
      "execution_count": 2,
      "outputs": []
    },
    {
      "cell_type": "markdown",
      "source": [
        "Step 2: Data Import and feature Transform"
      ],
      "metadata": {
        "id": "okCbNERJ4ZQU"
      }
    },
    {
      "cell_type": "code",
      "source": [
        "data = spark.read.csv('/content/Student_Grades_Data.csv', header=True, inferSchema=True)"
      ],
      "metadata": {
        "id": "SKOrUzsK4XrL"
      },
      "execution_count": 3,
      "outputs": []
    },
    {
      "cell_type": "code",
      "source": [
        "#Taking a look at data type of each column to see what data types inferSchema=TRUE paramter has set for each column\n",
        "data.printSchema()"
      ],
      "metadata": {
        "colab": {
          "base_uri": "https://localhost:8080/"
        },
        "id": "vIBNVJrJ6Dik",
        "outputId": "af102fa3-70cb-4c43-d82c-99d63a70f7b2"
      },
      "execution_count": 4,
      "outputs": [
        {
          "output_type": "stream",
          "name": "stdout",
          "text": [
            "root\n",
            " |-- Time_to_Study: integer (nullable = true)\n",
            " |-- Grades: double (nullable = true)\n",
            "\n"
          ]
        }
      ]
    },
    {
      "cell_type": "code",
      "source": [
        "data.show()"
      ],
      "metadata": {
        "colab": {
          "base_uri": "https://localhost:8080/"
        },
        "id": "fsLKUBvo6MGT",
        "outputId": "f6479926-fa09-45c1-f0a5-15c9fb96e5fc"
      },
      "execution_count": 5,
      "outputs": [
        {
          "output_type": "stream",
          "name": "stdout",
          "text": [
            "+-------------+------+\n",
            "|Time_to_Study|Grades|\n",
            "+-------------+------+\n",
            "|            1|   1.5|\n",
            "|            5|   2.7|\n",
            "|            7|   3.1|\n",
            "|            3|   2.1|\n",
            "|            2|   1.8|\n",
            "|            9|   3.9|\n",
            "|            6|   2.9|\n",
            "|           12|   4.5|\n",
            "|           11|   4.3|\n",
            "|            2|   1.8|\n",
            "|            4|   2.4|\n",
            "|            8|   3.5|\n",
            "|           13|   4.8|\n",
            "|            9|   3.9|\n",
            "|           14|   5.0|\n",
            "|           10|   4.1|\n",
            "|            6|   2.9|\n",
            "|           12|   4.5|\n",
            "|            1|   1.5|\n",
            "|            4|   2.4|\n",
            "+-------------+------+\n",
            "only showing top 20 rows\n",
            "\n"
          ]
        }
      ]
    },
    {
      "cell_type": "markdown",
      "source": [
        "Vector Assembler (feature Transform)"
      ],
      "metadata": {
        "id": "EJFGFmes8TUc"
      }
    },
    {
      "cell_type": "markdown",
      "source": [
        "![image.png](data:image/png;base64,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)"
      ],
      "metadata": {
        "id": "MNjUSgGH8O6E"
      }
    },
    {
      "cell_type": "code",
      "source": [
        "#Create a Feature array by omitting the last column\n",
        "feature_cols = data.columns[:-1] \n",
        "from pyspark.ml.feature import VectorAssembler\n",
        "vect_assembler = VectorAssembler(inputCols=feature_cols,outputCol=\"features\")"
      ],
      "metadata": {
        "id": "sIpjK-mF6SQM"
      },
      "execution_count": 6,
      "outputs": []
    },
    {
      "cell_type": "code",
      "source": [
        "#Utilize Assembler created above in order to add the feature column\n",
        "data_w_features = vect_assembler.transform(data)"
      ],
      "metadata": {
        "id": "IbRvak6b6sTy"
      },
      "execution_count": 7,
      "outputs": []
    },
    {
      "cell_type": "code",
      "source": [
        "#Display the data having additional column named features. Had it been multiple linear regression problem, you could see all the\n",
        "# independent variable values combined in one list\n",
        "data_w_features.show()"
      ],
      "metadata": {
        "colab": {
          "base_uri": "https://localhost:8080/"
        },
        "id": "5UhCYWSl6v5j",
        "outputId": "15d9e470-d144-4e9b-ca07-d690f8bce48f"
      },
      "execution_count": 8,
      "outputs": [
        {
          "output_type": "stream",
          "name": "stdout",
          "text": [
            "+-------------+------+--------+\n",
            "|Time_to_Study|Grades|features|\n",
            "+-------------+------+--------+\n",
            "|            1|   1.5|   [1.0]|\n",
            "|            5|   2.7|   [5.0]|\n",
            "|            7|   3.1|   [7.0]|\n",
            "|            3|   2.1|   [3.0]|\n",
            "|            2|   1.8|   [2.0]|\n",
            "|            9|   3.9|   [9.0]|\n",
            "|            6|   2.9|   [6.0]|\n",
            "|           12|   4.5|  [12.0]|\n",
            "|           11|   4.3|  [11.0]|\n",
            "|            2|   1.8|   [2.0]|\n",
            "|            4|   2.4|   [4.0]|\n",
            "|            8|   3.5|   [8.0]|\n",
            "|           13|   4.8|  [13.0]|\n",
            "|            9|   3.9|   [9.0]|\n",
            "|           14|   5.0|  [14.0]|\n",
            "|           10|   4.1|  [10.0]|\n",
            "|            6|   2.9|   [6.0]|\n",
            "|           12|   4.5|  [12.0]|\n",
            "|            1|   1.5|   [1.0]|\n",
            "|            4|   2.4|   [4.0]|\n",
            "+-------------+------+--------+\n",
            "only showing top 20 rows\n",
            "\n"
          ]
        }
      ]
    },
    {
      "cell_type": "code",
      "source": [
        "#Select only Features and Label from previous dataset as we need these two entities for building machine learning model\n",
        "finalized_data = data_w_features.select(\"features\",\"Grades\")\n",
        "\n",
        "finalized_data.show()"
      ],
      "metadata": {
        "colab": {
          "base_uri": "https://localhost:8080/"
        },
        "id": "p9u1muNj8j0s",
        "outputId": "f7221519-6ffb-4942-97e8-7949174ad9d5"
      },
      "execution_count": 9,
      "outputs": [
        {
          "output_type": "stream",
          "name": "stdout",
          "text": [
            "+--------+------+\n",
            "|features|Grades|\n",
            "+--------+------+\n",
            "|   [1.0]|   1.5|\n",
            "|   [5.0]|   2.7|\n",
            "|   [7.0]|   3.1|\n",
            "|   [3.0]|   2.1|\n",
            "|   [2.0]|   1.8|\n",
            "|   [9.0]|   3.9|\n",
            "|   [6.0]|   2.9|\n",
            "|  [12.0]|   4.5|\n",
            "|  [11.0]|   4.3|\n",
            "|   [2.0]|   1.8|\n",
            "|   [4.0]|   2.4|\n",
            "|   [8.0]|   3.5|\n",
            "|  [13.0]|   4.8|\n",
            "|   [9.0]|   3.9|\n",
            "|  [14.0]|   5.0|\n",
            "|  [10.0]|   4.1|\n",
            "|   [6.0]|   2.9|\n",
            "|  [12.0]|   4.5|\n",
            "|   [1.0]|   1.5|\n",
            "|   [4.0]|   2.4|\n",
            "+--------+------+\n",
            "only showing top 20 rows\n",
            "\n"
          ]
        }
      ]
    },
    {
      "cell_type": "markdown",
      "source": [
        "Step3: Train_test_split"
      ],
      "metadata": {
        "id": "y-D-xvuz8sk0"
      }
    },
    {
      "cell_type": "code",
      "source": [
        "#Split the data into training and test model with 70% obs. going in training and 30% in testing\n",
        "train_dataset, test_dataset = finalized_data.randomSplit([0.7, 0.3])"
      ],
      "metadata": {
        "id": "WAHqvXD-8sJz"
      },
      "execution_count": 10,
      "outputs": []
    },
    {
      "cell_type": "code",
      "source": [
        "#Peek into training data\n",
        "train_dataset.describe().show()"
      ],
      "metadata": {
        "colab": {
          "base_uri": "https://localhost:8080/"
        },
        "id": "WOZjVita8pOz",
        "outputId": "81289c56-037c-4061-c40a-7a075d4e30a4"
      },
      "execution_count": 11,
      "outputs": [
        {
          "output_type": "stream",
          "name": "stdout",
          "text": [
            "+-------+------------------+\n",
            "|summary|            Grades|\n",
            "+-------+------------------+\n",
            "|  count|                32|\n",
            "|   mean| 3.306249999999999|\n",
            "| stddev|1.0755156302758888|\n",
            "|    min|               1.5|\n",
            "|    max|               5.0|\n",
            "+-------+------------------+\n",
            "\n"
          ]
        }
      ]
    },
    {
      "cell_type": "code",
      "source": [
        "#Peek into test_dataset\n",
        "test_dataset.describe().show()"
      ],
      "metadata": {
        "colab": {
          "base_uri": "https://localhost:8080/"
        },
        "id": "N4o-0Kv09L68",
        "outputId": "81a84d65-0b12-42d6-9ca7-eedc9d1ec517"
      },
      "execution_count": 12,
      "outputs": [
        {
          "output_type": "stream",
          "name": "stdout",
          "text": [
            "+-------+------------------+\n",
            "|summary|            Grades|\n",
            "+-------+------------------+\n",
            "|  count|                18|\n",
            "|   mean|3.0722222222222224|\n",
            "| stddev|1.1711259316198315|\n",
            "|    min|               1.5|\n",
            "|    max|               5.0|\n",
            "+-------+------------------+\n",
            "\n"
          ]
        }
      ]
    },
    {
      "cell_type": "markdown",
      "source": [
        "Step 4: Model Training"
      ],
      "metadata": {
        "id": "gXIoBlXg9dKT"
      }
    },
    {
      "cell_type": "code",
      "source": [
        "#Import Linear Regression class called LinearRegression\n",
        "from pyspark.ml.regression import LinearRegression"
      ],
      "metadata": {
        "id": "nLGI-Fiw9RnE"
      },
      "execution_count": 13,
      "outputs": []
    },
    {
      "cell_type": "code",
      "source": [
        "#Create the Linear Regression object named having feature column as features and Label column as Time_to_Study\n",
        "LinReg = LinearRegression(featuresCol=\"features\", labelCol=\"Grades\")"
      ],
      "metadata": {
        "id": "G-rSf6RE9n9M"
      },
      "execution_count": 14,
      "outputs": []
    },
    {
      "cell_type": "code",
      "source": [
        "#Train the model on the training using fit() method.\n",
        "model = LinReg.fit(train_dataset)"
      ],
      "metadata": {
        "id": "7APtsvGY9rIj"
      },
      "execution_count": 15,
      "outputs": []
    },
    {
      "cell_type": "code",
      "source": [
        "#Predict the Grades using the evulate method\n",
        "pred = model.evaluate(test_dataset)"
      ],
      "metadata": {
        "id": "uXEX3Wr79v4b"
      },
      "execution_count": 16,
      "outputs": []
    },
    {
      "cell_type": "code",
      "source": [
        "#Show the predicted Grade values along side actual Grade values\n",
        "pred.predictions.show()"
      ],
      "metadata": {
        "colab": {
          "base_uri": "https://localhost:8080/"
        },
        "id": "2aIFKrPE9zBU",
        "outputId": "697cf158-e72e-428f-8ffb-ed62a3d6b8ce"
      },
      "execution_count": 17,
      "outputs": [
        {
          "output_type": "stream",
          "name": "stderr",
          "text": [
            "/usr/local/lib/python3.7/dist-packages/pyspark/sql/context.py:127: FutureWarning: Deprecated in 3.0.0. Use SparkSession.builder.getOrCreate() instead.\n",
            "  FutureWarning\n"
          ]
        },
        {
          "output_type": "stream",
          "name": "stdout",
          "text": [
            "+--------+------+------------------+\n",
            "|features|Grades|        prediction|\n",
            "+--------+------+------------------+\n",
            "|   [1.0]|   1.5|1.5701713395638577|\n",
            "|   [1.0]|   1.5|1.5701713395638577|\n",
            "|   [1.0]|   1.5|1.5701713395638577|\n",
            "|   [2.0]|   1.8|1.8424974039459976|\n",
            "|   [3.0]|   2.1|2.1148234683281375|\n",
            "|   [4.0]|   2.4| 2.387149532710277|\n",
            "|   [4.0]|   2.4| 2.387149532710277|\n",
            "|   [6.0]|   2.9| 2.931801661474557|\n",
            "|   [7.0]|   3.1|3.2041277258566967|\n",
            "|   [7.0]|   3.1|3.2041277258566967|\n",
            "|   [7.0]|   3.1|3.2041277258566967|\n",
            "|   [8.0]|   3.5|3.4764537902388364|\n",
            "|   [8.0]|   3.5|3.4764537902388364|\n",
            "|  [10.0]|   4.1| 4.021105919003116|\n",
            "|  [11.0]|   4.3| 4.293431983385256|\n",
            "|  [12.0]|   4.5| 4.565758047767396|\n",
            "|  [14.0]|   5.0| 5.110410176531675|\n",
            "|  [14.0]|   5.0| 5.110410176531675|\n",
            "+--------+------+------------------+\n",
            "\n"
          ]
        }
      ]
    },
    {
      "cell_type": "code",
      "source": [
        "#Find out coefficient value\n",
        "coefficient = model.coefficients\n",
        "print (\"The coefficient of the model is : %a\" %coefficient)"
      ],
      "metadata": {
        "colab": {
          "base_uri": "https://localhost:8080/"
        },
        "id": "uTSzfWW2-Cwu",
        "outputId": "271a96cd-ba94-45a6-814d-cb6bb4070321"
      },
      "execution_count": 18,
      "outputs": [
        {
          "output_type": "stream",
          "name": "stdout",
          "text": [
            "The coefficient of the model is : DenseVector([0.2723])\n"
          ]
        }
      ]
    },
    {
      "cell_type": "code",
      "source": [
        "#Find out intercept Value\n",
        "intercept = model.intercept\n",
        "print (\"The Intercept of the model is : %f\" %intercept)"
      ],
      "metadata": {
        "colab": {
          "base_uri": "https://localhost:8080/"
        },
        "id": "bVj4hNll-N28",
        "outputId": "dc2f649b-0c08-4ac6-fecd-dbd85c26fc75"
      },
      "execution_count": 19,
      "outputs": [
        {
          "output_type": "stream",
          "name": "stdout",
          "text": [
            "The Intercept of the model is : 1.297845\n"
          ]
        }
      ]
    },
    {
      "cell_type": "code",
      "source": [
        "#Evaluate the model using metric like Mean Absolute Error(MAE), Root Mean Square Error(RMSE) and R-Square\n",
        "from pyspark.ml.evaluation import RegressionEvaluator\n",
        "evaluation = RegressionEvaluator(labelCol=\"Grades\", predictionCol=\"prediction\")\n",
        "\n",
        "# Root Mean Square Error\n",
        "rmse = evaluation.evaluate(pred.predictions, {evaluation.metricName: \"rmse\"})\n",
        "print(\"RMSE: %.3f\" % rmse)\n",
        "\n",
        "# Mean Square Error\n",
        "mse = evaluation.evaluate(pred.predictions, {evaluation.metricName: \"mse\"})\n",
        "print(\"MSE: %.3f\" % mse)\n",
        "\n",
        "# Mean Absolute Error\n",
        "mae = evaluation.evaluate(pred.predictions, {evaluation.metricName: \"mae\"})\n",
        "print(\"MAE: %.3f\" % mae)\n",
        "\n",
        "# r2 - coefficient of determination\n",
        "r2 = evaluation.evaluate(pred.predictions, {evaluation.metricName: \"r2\"})\n",
        "print(\"r2: %.3f\" %r2)"
      ],
      "metadata": {
        "colab": {
          "base_uri": "https://localhost:8080/"
        },
        "id": "rvjh8gLM-PP0",
        "outputId": "fd5baf15-a46e-4dc1-e159-f6371523fb6c"
      },
      "execution_count": 20,
      "outputs": [
        {
          "output_type": "stream",
          "name": "stderr",
          "text": [
            "/usr/local/lib/python3.7/dist-packages/pyspark/sql/context.py:127: FutureWarning: Deprecated in 3.0.0. Use SparkSession.builder.getOrCreate() instead.\n",
            "  FutureWarning\n"
          ]
        },
        {
          "output_type": "stream",
          "name": "stdout",
          "text": [
            "RMSE: 0.069\n",
            "MSE: 0.005\n",
            "MAE: 0.059\n",
            "r2: 0.996\n"
          ]
        }
      ]
    }
  ]
}