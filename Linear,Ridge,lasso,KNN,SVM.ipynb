{
  "nbformat": 4,
  "nbformat_minor": 0,
  "metadata": {
    "colab": {
      "name": "Exploring Asteroid with Machine Learning (Linear Regression , Ridge and Lasso, KNN, SVM).ipynb",
      "provenance": [],
      "collapsed_sections": []
    },
    "kernelspec": {
      "name": "python3",
      "display_name": "Python 3"
    },
    "language_info": {
      "name": "python"
    }
  },
  "cells": [
    {
      "cell_type": "code",
      "source": [
        "import pandas as pd\n",
        "import numpy as np\n",
        "import matplotlib.pyplot as plt\n",
        "import seaborn as sns\n",
        "import warnings\n",
        "warnings.simplefilter(action=\"ignore\", category=FutureWarning)"
      ],
      "metadata": {
        "id": "fhLV_xPhCHeS"
      },
      "execution_count": 1,
      "outputs": []
    },
    {
      "cell_type": "markdown",
      "source": [
        "Train_test_split"
      ],
      "metadata": {
        "id": "9bDv6AAOB8pE"
      }
    },
    {
      "cell_type": "code",
      "execution_count": 2,
      "metadata": {
        "id": "tbvMEdXv-uov"
      },
      "outputs": [],
      "source": [
        "from sklearn.model_selection import train_test_split\n",
        "from sklearn.preprocessing import StandardScaler"
      ]
    },
    {
      "cell_type": "code",
      "source": [
        "file = '/content/drive/MyDrive/processed_asteroid.csv'"
      ],
      "metadata": {
        "id": "y0WUQdlNCZEJ"
      },
      "execution_count": 6,
      "outputs": []
    },
    {
      "cell_type": "code",
      "source": [
        "df = pd.read_csv(file)"
      ],
      "metadata": {
        "id": "jc9QQXeJKDXh"
      },
      "execution_count": 7,
      "outputs": []
    },
    {
      "cell_type": "code",
      "source": [
        "df.head()"
      ],
      "metadata": {
        "colab": {
          "base_uri": "https://localhost:8080/",
          "height": 317
        },
        "id": "okZyV-M7ssrX",
        "outputId": "49c3d0ff-eb87-451f-f646-b01ab62525da"
      },
      "execution_count": 66,
      "outputs": [
        {
          "output_type": "execute_result",
          "data": {
            "text/plain": [
              "   semi-major_axis(au)  eccentricity  x-y_inclination(deg)  \\\n",
              "0             2.769165      0.076009             10.594067   \n",
              "1             2.772466      0.230337             34.836234   \n",
              "2             2.669150      0.256942             12.988919   \n",
              "3             2.361418      0.088721              7.141771   \n",
              "4             2.574249      0.191095              5.366988   \n",
              "\n",
              "   longitude_asc_node  argument_perihelion  perihelion_dist(au)  \\\n",
              "0           80.305532            73.597694             2.558684   \n",
              "1          173.080063           310.048857             2.133865   \n",
              "2          169.852760           248.138626             1.983332   \n",
              "3          103.810804           150.728541             2.151909   \n",
              "4          141.576605           358.687607             2.082324   \n",
              "\n",
              "   aphelion_dist(au)  data_arc(d)  n_obs_used  diameter  ...  class_APO  \\\n",
              "0           2.979647       8822.0        1002   939.400  ...          0   \n",
              "1           3.411067      72318.0        8490   545.000  ...          0   \n",
              "2           3.354967      72684.0        7104   246.596  ...          0   \n",
              "3           2.570926      24288.0        9325   525.400  ...          0   \n",
              "4           3.066174      63507.0        2916   106.699  ...          0   \n",
              "\n",
              "   class_AST  class_ATE  class_CEN  class_IMB  class_MBA  class_MCA  \\\n",
              "0          0          0          0          0          1          0   \n",
              "1          0          0          0          0          1          0   \n",
              "2          0          0          0          0          1          0   \n",
              "3          0          0          0          0          1          0   \n",
              "4          0          0          0          0          1          0   \n",
              "\n",
              "   class_OMB  class_TJN  class_TNO  \n",
              "0          0          0          0  \n",
              "1          0          0          0  \n",
              "2          0          0          0  \n",
              "3          0          0          0  \n",
              "4          0          0          0  \n",
              "\n",
              "[5 rows x 24 columns]"
            ],
            "text/html": [
              "\n",
              "  <div id=\"df-e48028f4-dd85-4a1c-970f-14944f449a93\">\n",
              "    <div class=\"colab-df-container\">\n",
              "      <div>\n",
              "<style scoped>\n",
              "    .dataframe tbody tr th:only-of-type {\n",
              "        vertical-align: middle;\n",
              "    }\n",
              "\n",
              "    .dataframe tbody tr th {\n",
              "        vertical-align: top;\n",
              "    }\n",
              "\n",
              "    .dataframe thead th {\n",
              "        text-align: right;\n",
              "    }\n",
              "</style>\n",
              "<table border=\"1\" class=\"dataframe\">\n",
              "  <thead>\n",
              "    <tr style=\"text-align: right;\">\n",
              "      <th></th>\n",
              "      <th>semi-major_axis(au)</th>\n",
              "      <th>eccentricity</th>\n",
              "      <th>x-y_inclination(deg)</th>\n",
              "      <th>longitude_asc_node</th>\n",
              "      <th>argument_perihelion</th>\n",
              "      <th>perihelion_dist(au)</th>\n",
              "      <th>aphelion_dist(au)</th>\n",
              "      <th>data_arc(d)</th>\n",
              "      <th>n_obs_used</th>\n",
              "      <th>diameter</th>\n",
              "      <th>...</th>\n",
              "      <th>class_APO</th>\n",
              "      <th>class_AST</th>\n",
              "      <th>class_ATE</th>\n",
              "      <th>class_CEN</th>\n",
              "      <th>class_IMB</th>\n",
              "      <th>class_MBA</th>\n",
              "      <th>class_MCA</th>\n",
              "      <th>class_OMB</th>\n",
              "      <th>class_TJN</th>\n",
              "      <th>class_TNO</th>\n",
              "    </tr>\n",
              "  </thead>\n",
              "  <tbody>\n",
              "    <tr>\n",
              "      <th>0</th>\n",
              "      <td>2.769165</td>\n",
              "      <td>0.076009</td>\n",
              "      <td>10.594067</td>\n",
              "      <td>80.305532</td>\n",
              "      <td>73.597694</td>\n",
              "      <td>2.558684</td>\n",
              "      <td>2.979647</td>\n",
              "      <td>8822.0</td>\n",
              "      <td>1002</td>\n",
              "      <td>939.400</td>\n",
              "      <td>...</td>\n",
              "      <td>0</td>\n",
              "      <td>0</td>\n",
              "      <td>0</td>\n",
              "      <td>0</td>\n",
              "      <td>0</td>\n",
              "      <td>1</td>\n",
              "      <td>0</td>\n",
              "      <td>0</td>\n",
              "      <td>0</td>\n",
              "      <td>0</td>\n",
              "    </tr>\n",
              "    <tr>\n",
              "      <th>1</th>\n",
              "      <td>2.772466</td>\n",
              "      <td>0.230337</td>\n",
              "      <td>34.836234</td>\n",
              "      <td>173.080063</td>\n",
              "      <td>310.048857</td>\n",
              "      <td>2.133865</td>\n",
              "      <td>3.411067</td>\n",
              "      <td>72318.0</td>\n",
              "      <td>8490</td>\n",
              "      <td>545.000</td>\n",
              "      <td>...</td>\n",
              "      <td>0</td>\n",
              "      <td>0</td>\n",
              "      <td>0</td>\n",
              "      <td>0</td>\n",
              "      <td>0</td>\n",
              "      <td>1</td>\n",
              "      <td>0</td>\n",
              "      <td>0</td>\n",
              "      <td>0</td>\n",
              "      <td>0</td>\n",
              "    </tr>\n",
              "    <tr>\n",
              "      <th>2</th>\n",
              "      <td>2.669150</td>\n",
              "      <td>0.256942</td>\n",
              "      <td>12.988919</td>\n",
              "      <td>169.852760</td>\n",
              "      <td>248.138626</td>\n",
              "      <td>1.983332</td>\n",
              "      <td>3.354967</td>\n",
              "      <td>72684.0</td>\n",
              "      <td>7104</td>\n",
              "      <td>246.596</td>\n",
              "      <td>...</td>\n",
              "      <td>0</td>\n",
              "      <td>0</td>\n",
              "      <td>0</td>\n",
              "      <td>0</td>\n",
              "      <td>0</td>\n",
              "      <td>1</td>\n",
              "      <td>0</td>\n",
              "      <td>0</td>\n",
              "      <td>0</td>\n",
              "      <td>0</td>\n",
              "    </tr>\n",
              "    <tr>\n",
              "      <th>3</th>\n",
              "      <td>2.361418</td>\n",
              "      <td>0.088721</td>\n",
              "      <td>7.141771</td>\n",
              "      <td>103.810804</td>\n",
              "      <td>150.728541</td>\n",
              "      <td>2.151909</td>\n",
              "      <td>2.570926</td>\n",
              "      <td>24288.0</td>\n",
              "      <td>9325</td>\n",
              "      <td>525.400</td>\n",
              "      <td>...</td>\n",
              "      <td>0</td>\n",
              "      <td>0</td>\n",
              "      <td>0</td>\n",
              "      <td>0</td>\n",
              "      <td>0</td>\n",
              "      <td>1</td>\n",
              "      <td>0</td>\n",
              "      <td>0</td>\n",
              "      <td>0</td>\n",
              "      <td>0</td>\n",
              "    </tr>\n",
              "    <tr>\n",
              "      <th>4</th>\n",
              "      <td>2.574249</td>\n",
              "      <td>0.191095</td>\n",
              "      <td>5.366988</td>\n",
              "      <td>141.576605</td>\n",
              "      <td>358.687607</td>\n",
              "      <td>2.082324</td>\n",
              "      <td>3.066174</td>\n",
              "      <td>63507.0</td>\n",
              "      <td>2916</td>\n",
              "      <td>106.699</td>\n",
              "      <td>...</td>\n",
              "      <td>0</td>\n",
              "      <td>0</td>\n",
              "      <td>0</td>\n",
              "      <td>0</td>\n",
              "      <td>0</td>\n",
              "      <td>1</td>\n",
              "      <td>0</td>\n",
              "      <td>0</td>\n",
              "      <td>0</td>\n",
              "      <td>0</td>\n",
              "    </tr>\n",
              "  </tbody>\n",
              "</table>\n",
              "<p>5 rows × 24 columns</p>\n",
              "</div>\n",
              "      <button class=\"colab-df-convert\" onclick=\"convertToInteractive('df-e48028f4-dd85-4a1c-970f-14944f449a93')\"\n",
              "              title=\"Convert this dataframe to an interactive table.\"\n",
              "              style=\"display:none;\">\n",
              "        \n",
              "  <svg xmlns=\"http://www.w3.org/2000/svg\" height=\"24px\"viewBox=\"0 0 24 24\"\n",
              "       width=\"24px\">\n",
              "    <path d=\"M0 0h24v24H0V0z\" fill=\"none\"/>\n",
              "    <path d=\"M18.56 5.44l.94 2.06.94-2.06 2.06-.94-2.06-.94-.94-2.06-.94 2.06-2.06.94zm-11 1L8.5 8.5l.94-2.06 2.06-.94-2.06-.94L8.5 2.5l-.94 2.06-2.06.94zm10 10l.94 2.06.94-2.06 2.06-.94-2.06-.94-.94-2.06-.94 2.06-2.06.94z\"/><path d=\"M17.41 7.96l-1.37-1.37c-.4-.4-.92-.59-1.43-.59-.52 0-1.04.2-1.43.59L10.3 9.45l-7.72 7.72c-.78.78-.78 2.05 0 2.83L4 21.41c.39.39.9.59 1.41.59.51 0 1.02-.2 1.41-.59l7.78-7.78 2.81-2.81c.8-.78.8-2.07 0-2.86zM5.41 20L4 18.59l7.72-7.72 1.47 1.35L5.41 20z\"/>\n",
              "  </svg>\n",
              "      </button>\n",
              "      \n",
              "  <style>\n",
              "    .colab-df-container {\n",
              "      display:flex;\n",
              "      flex-wrap:wrap;\n",
              "      gap: 12px;\n",
              "    }\n",
              "\n",
              "    .colab-df-convert {\n",
              "      background-color: #E8F0FE;\n",
              "      border: none;\n",
              "      border-radius: 50%;\n",
              "      cursor: pointer;\n",
              "      display: none;\n",
              "      fill: #1967D2;\n",
              "      height: 32px;\n",
              "      padding: 0 0 0 0;\n",
              "      width: 32px;\n",
              "    }\n",
              "\n",
              "    .colab-df-convert:hover {\n",
              "      background-color: #E2EBFA;\n",
              "      box-shadow: 0px 1px 2px rgba(60, 64, 67, 0.3), 0px 1px 3px 1px rgba(60, 64, 67, 0.15);\n",
              "      fill: #174EA6;\n",
              "    }\n",
              "\n",
              "    [theme=dark] .colab-df-convert {\n",
              "      background-color: #3B4455;\n",
              "      fill: #D2E3FC;\n",
              "    }\n",
              "\n",
              "    [theme=dark] .colab-df-convert:hover {\n",
              "      background-color: #434B5C;\n",
              "      box-shadow: 0px 1px 3px 1px rgba(0, 0, 0, 0.15);\n",
              "      filter: drop-shadow(0px 1px 2px rgba(0, 0, 0, 0.3));\n",
              "      fill: #FFFFFF;\n",
              "    }\n",
              "  </style>\n",
              "\n",
              "      <script>\n",
              "        const buttonEl =\n",
              "          document.querySelector('#df-e48028f4-dd85-4a1c-970f-14944f449a93 button.colab-df-convert');\n",
              "        buttonEl.style.display =\n",
              "          google.colab.kernel.accessAllowed ? 'block' : 'none';\n",
              "\n",
              "        async function convertToInteractive(key) {\n",
              "          const element = document.querySelector('#df-e48028f4-dd85-4a1c-970f-14944f449a93');\n",
              "          const dataTable =\n",
              "            await google.colab.kernel.invokeFunction('convertToInteractive',\n",
              "                                                     [key], {});\n",
              "          if (!dataTable) return;\n",
              "\n",
              "          const docLinkHtml = 'Like what you see? Visit the ' +\n",
              "            '<a target=\"_blank\" href=https://colab.research.google.com/notebooks/data_table.ipynb>data table notebook</a>'\n",
              "            + ' to learn more about interactive tables.';\n",
              "          element.innerHTML = '';\n",
              "          dataTable['output_type'] = 'display_data';\n",
              "          await google.colab.output.renderOutput(dataTable, element);\n",
              "          const docLink = document.createElement('div');\n",
              "          docLink.innerHTML = docLinkHtml;\n",
              "          element.appendChild(docLink);\n",
              "        }\n",
              "      </script>\n",
              "    </div>\n",
              "  </div>\n",
              "  "
            ]
          },
          "metadata": {},
          "execution_count": 66
        }
      ]
    },
    {
      "cell_type": "code",
      "source": [
        "#Split data into features and target.\n",
        "y = df['diameter']\n",
        "X = df.drop(columns = 'diameter')"
      ],
      "metadata": {
        "id": "zLi9QWwUCdCy"
      },
      "execution_count": 8,
      "outputs": []
    },
    {
      "cell_type": "code",
      "source": [
        "#Standarize the features\n",
        "\n",
        "#Apply a standard scaler to the data.\n",
        "SS_scaler = StandardScaler()\n",
        "\n",
        "# Fit the standard scaler to the data.\n",
        "X_std = SS_scaler.fit_transform(X)"
      ],
      "metadata": {
        "id": "is93ODoICp3P"
      },
      "execution_count": 9,
      "outputs": []
    },
    {
      "cell_type": "code",
      "source": [
        "#Create training and test data.\n",
        "X_train, X_test, y_train, y_test = train_test_split(\n",
        "    X_std, y, test_size=0.2, random_state=42)"
      ],
      "metadata": {
        "id": "ORSKDcdJCweQ"
      },
      "execution_count": 10,
      "outputs": []
    },
    {
      "cell_type": "code",
      "source": [
        "print('Shape of X and y',X.shape,y.shape )\n",
        "print('X_train_shape',X_train.shape)\n",
        "print('X_test_shape',X_test.shape)\n",
        "print('y_train_shape',y_train.shape)\n",
        "print('y_test_shape',y_test.shape)"
      ],
      "metadata": {
        "colab": {
          "base_uri": "https://localhost:8080/"
        },
        "id": "giPVVAkOCzuG",
        "outputId": "006852f7-2bcc-4702-b0fc-7e7e84d6eb6f"
      },
      "execution_count": 11,
      "outputs": [
        {
          "output_type": "stream",
          "name": "stdout",
          "text": [
            "Shape of X and y (137636, 23) (137636,)\n",
            "X_train_shape (110108, 23)\n",
            "X_test_shape (27528, 23)\n",
            "y_train_shape (110108,)\n",
            "y_test_shape (27528,)\n"
          ]
        }
      ]
    },
    {
      "cell_type": "markdown",
      "source": [
        "R2 Score: A rule of thumb for acceptable R2 with 0.75, 0.50, and 0.25 are described as substantial, moderate and weak respectively"
      ],
      "metadata": {
        "id": "XJC3qVf4JpU_"
      }
    },
    {
      "cell_type": "markdown",
      "source": [
        "![image.png](data:image/png;base64,iVBORw0KGgoAAAANSUhEUgAAASwAAAD6CAYAAAAbbXrzAAAgAElEQVR4nO2df3QT17Xvv7zHW/EqhNIiYFoECDBFjulCLoYaJCd288tQXiI/TICbH4jIFJpFEvuVVEp8uxJeArZjc+Wm5JZexw3kJk8CmxqIQ3AfxEosJwSb2LxiMA2OhiA/FGPWJQ7phbWcNe8PecYzo18jW8Ia2J+1tGzNnDlnz0jz1T57zjl7DMdxHAiCIFTAfxltAwiCIJRCgkUQhGogwSIIQjWQYBEEoRpIsAiCUA0kWARBqAYSLIIgVAMJFkEQqoEEiyAI1UCCRRCEaiDBIghCNZBgEQShGkiwCIJQDSRYBEGoBhIsgiBUAwkWQRCqYexIK7hctwGLf+uOUCIHZR9XYzUz0pZuBpex98mlsP9kH7z2jNE2hiAIGSMWrABa5K57COkTQu2bjLnfi08rBEHc3sRJsFLx4MZilXhRBEGolZsew+o/8y62b8rDgtlzMWv2Qty/qQwH/35DVOIy9j45F7PK3PjsD49gwey5WHB/GZr6+e2f4PIn/4onl87HrNlzsWDlVuz9+w1gwIeDv3sEi+fPxaz5S/HkHz7B5QF5ne0ya8JtF3MD598tw69XLIV+9txAm/c/gRfrunEjwlEEQcSfOHlYyrjRVoaVj9TgYqYVW6tfxPR/nMG+PzlQlOdG576DeCHzjqHCb2/G+rus+F9vPYXr/u9j4QTgfQA4thX/VDsFuc/vROEd3fj318pgL/wa7fM+xOnJxSjf9RR63f+KFx1PYNMPm7D/Ue2IbD6/53Hcv7UbS39lxx/tWtzxH9049O9leOu3D+Pr732MquUh+8EEQSSAmydYA2dQ/T9rcD5nOz76t1WYPhYAlmDpshykr87D9tJaPL7/MUzny//jIVS9WYzccfyGy4E/3dNR+FE1VmsBIAcL7/RB/+Tb+PiBt/B//nkJ7gAA03TcaM3Di+52XH5Ui8nDNvoMmv7iQ+qv3sCf7RmBurEESx+YgzsWPoG3/m83qpZTcJ4gbhZx6hK6YV8a6C5JXxuw1z9Y5O9u7PMBTzzx0KBYDTJ2DlZbHgDaa9HULdqek4H54xDMkgewVOQ03TE+ICN59w6KFQBgDlIXAfju+gjP6y5sOPgx/o8gVnyjqbhrMYBvv6ZuIUHcRBL8lFD0hPAf/biIuzBn+h3yQpjwo+kA/grffyho6g4gJdT2/yZ9mxJP33HgBvr7fDh//iI+P3Mcnxw9hCNtAHIuox8YgQdHEEQs0FPCKFw8/AJ+/dtadP4DwA/mIF07Bwt/+RhW33DgrdE2jiBuM25eDOt7EzAdZ9B98QYwR+pl9V+6CGAJ5iRa8C4FPKIhR9AH3wkAPwlT/j/exfbNteh/9HV89M8PYMg57MZb7zkSaytBEEHcvGENP8nBI1rgrbcO4eKAaPtAN/bu/isw5x4sHNkDvQjcge/fCaD9vKTtG5804uA/IhzW3YkjAPKWi8UKwN/dOPi3xFhKEER4bp6HNfYubPgXKw4+8gLu/6dubN14jzCs4eCZOdiw7zGkJqzxCVj64H/HHe86ULT5Dmx+7C7gTC2q//QNUnOAi+EOm/MzPPy9GlRvfgITXvo1fvaDG7joeQc73v4MN36QMGMJggjDTR2HdUemHfsb0rHztdexfUMN+jEBqQ88hT+/bkXuzOBgfDyZsLwUDa9+H7Z/caDoCWBy5ir8xlmKuX+Zj6ZwB/3gAZT/ZTu+/88O7Hz2Cdz43mSkmx5D+cEdmPLXh7Hi9TP4/AYwObGmEwQxyBiO47jRNoIgCEIJtLwMQRCqgQSLIAjVQIJFEIRqIMEiCEI1kGARBKEaSLAIglANJFgEQagGEiyCIFQDCRZBEKqBBIsgCNVAgkUQhGogwSIIQjWQYBEEoRpIsAiCUA0kWARBqAYSLIIgVAMJFkEQqoEEiyAI1UCCRRCEaiDBIghCNZBgEQShGkiwCIJQDSRYBEGoBhIsgiBUAwkWQRCqgQSLIAjVQIJFEIRqIMEiCEI1kGARBKEaSLAIglANJFgEQagGEiyCIFQDCRZBEKqBBIsgCNVAgkUQBFiWBcuyEfcnQ71jh2UFQRBxhWVZ7Nq1K2o5hmEAAH6/H3l5ecjJyRlRu5WVlejs7MSRI0fg9/vBMAxSU1Mxb948vPHGGwCAqqoqbN26Fe3t7dDpdIrOpbi4GF1dXejq6oJWq4VGo8H48eORmZkJh8MBAMjNzcXAwACam5uVG8wRBDHqWK1WDkBML61WyxkMBs5qtXJerzem9pqbmzmz2SzUYzabObPZzOXl5Qn1m81mzul0cgA4k8mkqN6Kigpu4sSJHABOo9FwFouFs1gsnF6vD2qLbyMWyMMiiCTAYrFg/vz5AIDGxkYcOXJEsm/q1KmCdwUAp0+fxrlz5+DxeNDR0YGDBw/iD3/4A9asWRO1LbfbjeLiYnR0dMBiseCll17CzJkzhf0XLlxAUVERDhw4gAMHDgAAUlNTo9b7/PPPo6ysDFqtFhs3bkRZWZlkf0tLCyorK9HW1gafzwcAMBqNUeuVEJO8EQSRcMReTiTPxuv1cjk5ORKPq6mpKWLdXq9X8HZycnIUlQPAORyOiPU6HA5FZZubmyVeYqyeIQkWQSQZDMMIN7TNZotYVi4AVqs1YnmTycQB4PR6fVQ7bDabImHxer2CzZFEkMdgMHAAOIPBELWsHHpKSBBJhNvtht/vF95rNJqI5QcGBiTvz507F7Fuj8cDAMjKyopqi8FgAACYTKaIwfZXXnlFsPmXv/xl1HonTpwIAFi4cGHUsnJIsAgiiXj77bcl7wsKCiKWb2trk7yPFBMS1z116lTFNkWLX508eVL4PzMzM2p9c+bMAQDo9XrFNvCQYBFEEvHdd98J/xsMhqjDCPr6+iTvea8oFD09PcL/p06dimoLHxhfsGCBonIAsGfPnqj18ucYTYxDQYJFEElER0eH8L+SLlNNTY3wv8lkiviU8Pr168L/XV1dKCwsjFh3QUEB7HY7ioqKwpa5cOECtFqt8L6hoUHodobDarXC6XQqGtMlh4Y1EEQSIRasaF2m3NxcwcPS6/V4+eWXI5b/+c9/DrfbDSAwuLOxsRHZ2dmYN28eNBpN0DAEnU6H0tLSiHWKh0MAAY/v8ccfh1arhdFoDDm41WQyRawzIjGH6QmCSAiFhYWKHvk7nU7haR8UPpnjuMATRfETSPmLYRjOYDBwzc3NMdktfpoof2m1Wo5hGM5iscRUZzjGcBzHDV/uCIKIF+vXr8fu3bsBAFqtVhLA7uvrw/jx49HV1SXMvzObzTAajdiyZYviNlwuF9auXRuxjE6nw+rVq4M8rnCwLIutW7cKtodDr9ejurp6RB4WCRZBJAkZGRlCl1Cj0UiGNKSkpEi6izk5OWhqahpWOy6XC42NjREFRqvV4tFHH41JtF555RUcO3Ys4oRmhmFw6dKlmG3mIcEiiCRhzJgxwv8VFRVBnpPH40FNTY0gNBaLBW+++eaw2/N4PGhra8OpU6dw/PhxdHV1Sfbr9XqcPXs2pjovXLiATz75BEePHsW5c+fQ19cXVK/D4YgYyI9IXDqWBEGMCPnk53DxK6/XKykXbSqOUrxeL1dRUSGJcTEME5d6+YnOiDHmFgoa1kAQSYDS8Vc6nU7y9FDcTQxHtDWp+Hq3bNmCdevWBR0bjmjDF/h66+vrJePD5KPzY4EEK8koLCzEsmXLsGzZMqxfvx4ul2u0TSJuAmLhefDBByOWFQ8WPX36dNS6lyxZgldeeUWRHRkZGcL/EydODCucdrsd2dnZir+fYiFUsvJDOEiwkgSPx4OMjAy0tLRAr9fD7/fD7XZj7dq1UZ++EOrG7XZLBCvS/MHdu3cHjW6PxO7duyVzE6MhHlwaaWDnV199BUDZnEQAEhuijZyPBAlWkvD0008DAM6ePQuHw4H29nbce++9AAKPu6uqqkbTPCKBxDJ/8ODBg5L3/Bpa4eAD3tHK8Yi7eZE8vY6ODjAMo3iJ48bGRuF/s9ms6JhQkGAlAS6XS/iFFbvYv/vd74RF2/bu3TsqthGJRzzHL9rKCGIPCECQ9yQXkJaWFgDAhx9+qMgWfjK1Xq8P+ySP9wj9fr9kocFwiD1Iq9U6rCk5PCRYSQD/pevo6JB0DWbOnCn0948fP07xrFsU8YoL0VbgvHbtmuS9uPtYWVmJJUuWSL4n58+fF9qI5g3Z7Xbh+7dx48aw5cQeodhzCkdxcTGAgAjy68QPmxE/tyRGjNfr5fLy8jiTycQ5nU7JvoqKimGvzkgkJ16vl3M6nZzT6eQsFovkkT//HXA6nSE/b/EKowAk3xe9Xi9ZmO/NN9+UlNVoNEHfLx7xsIpoiwbKbbZYLCFt9Xq9ksX64jEEgwQryeHHsGg0mtE2hYgT/E0c7VVYWBh0rHw+oNls5ioqKgQREYsNP8cvJydH2K/VajmTycRZrVbOarVyZrNZSBrBMEzUpZDF9ouTSTAMI9Rrs9k4i8Ui2KnX6+M2XoxGug8Dl8uF8vJyRWX5mENWVhbS09Njmvfl8XiQnZ0NYISjg1UGy7Lw+Xwjm9WfxBQWFgY9CZQ/+bty5QocDkfIeI/H48G2bdsk8SOGYWCz2STfkYyMDFy/fl0Yrc4fx8efeDQaDUwmU9j25IwZM0b4Pl64cAEvv/wyWlpagka0m81m6HQ6Ia1XXIiL7N1mVFRUcAaDgdNoNJxWqw36ZeRdc/4l/kXMysqKuu42D//rpTTFktrxer1C1yTW9E+3I3zXMpz3Em7VBZZluebmZq6iomJYnk+4Y1iW5VwuF1dRUZGw8AUJ1ggR9+c1Gk3YvrzNZpMIV7TlNvgsJLeyWDU1NXE2m42zWq2cyWTiNBqNpKtDEHJIsEaIOAiqVIT4V0VFRchyfCaUW/2m5WMn/EsemyEIOTSsYYSIp0ZEe2wsHzB37NixoDIulwvZ2dmwWq2or68Xttvt9ltuWIPBYIDNZoPFYkFTUxPy8vJG2yQiyaElkkdAZWWlJFgqnzgq5/jx45L38kF/LpcLTz/9dMgAe3l5Obxe7wgtTi7k6zkpSWBA3N6QYI2Azs5O4X+NRgOLxRKxvDi7CDCUnw0IeGfl5eV4+OGHwTCMxJs6evQoGIYZ0QhhgrgVIMEaAVevXhX+X7FiRdTy/DQJHvHia2vXrhVGuoszofBESt9EELcLFMMaAeJxJ9HiVy6XCwcOHBDe82NUgEB8St5dlEOCRRDkYQ2byspKiWBFil/JB5rKY1SbNm3Cpk2bhCVyucGxvGPGjBH+p+4gQZBgDRtxsF2j0SAnJ0fwsliWhd/vx9GjR9HT04PTp08LI7eNRmNQQP1miZHL5YppbSQl+P1+xYkKCGKkkGANE34BMyAgXrNmzQpbVq/XjzhhQDx4+umnY1r8TQkMw2DFihW37DQaIrkgwRom4phTamoqVq5cKaxdBQTWH2pra4PP58PVq1ejLnt7M6ivr4fP5wvZ9ZS/50RTTMXv5WWXLFkSlP2XIBIFCdYw2LFjhyR+VVJSEjSkoaioCC6XC8XFxfD7/Xj++ecBAGvWrLmptoq5Hb0gpStiKmEkXXda5jo60YYFAaDJz8NBPn8wEuLpJkVFRTfJQnUivq7xmJojTy810tdI0lPpdLq42nKrvWbOnKnoOpKHNQxiGX/FMIwQ6P7mm28SahchxeFwYNKkSXGr77777hv2sevWrcOFCxfiZsuthtKwAgnWMBAv1B+tyyFe8vjKlSsJs4kIRqfTjXxJ3jjx0ksvjbYJtwQkWDESy/zByspKyft4/toPh2XLlsU1psPz/vvvx31ohnjaEkHwkGDFiHh6TbT5g+K5hnz50eLChQtYsGABUlJS4l43DWolbhYkWDESS/xKXBaAZNgDEMgmsnLlypvy9G7mzJk0wJNQPTSXMEbcbrfwf7TulXyQ5sDAgPB/VVUVqqqqhDRMhBS52BMEQB5WVKqqqvDhhx/i+vXrQQJ19epVZGdnQ6PRYPXq1UFjrIxGoyRAzwsYv5SM2WxWNvbkFsViseDrr78GEEjWIU6q0NHRgbS0NGg0Gmg0GkyaNClpAujE6EFZc6KQlpaGrq6uoO4cDz9kwel0BgkWy7IoLi4WVmnQarXQ6XTweDwwGAxwOBzIyclJ7AkkMRkZGULK82gYDAa8//77N8Gq2wuXy4XGxkacP38eRqMRDMPAYDAI30v+O6w0ow4QeIre0NCAc+fOoa+vD/PmzYNGo8GmTZuEOlwuF/bu3StZVVcJJFhRYFlW0VSVcONILly4gPr6epw6dUro/hmNRsmHd7vCj0sSX0v+Osqv+616rbKzs+M6v3Pjxo2K0sFVVlbi9ddfF3oNGo1GsEOr1eLBBx/EG2+8Ifxge73eqJ9BqB/o8ePHC7NCNBqNMD2suLh4eD9Cwx66SxDEiKisrAw56pthGOEl36fRaIRXqDJKUsjxMwC0Wi1ns9k4t9vNcVwg+YnD4eDMZjOn1Wo5vV7PAYGszdHwer3CaH6NRiMkdOVTkVmtVo5hGE6n0wmJWEMlio0GCRZBjBLiqUgmk0kQDjG8aCDMdCWv1yuZghQtzTyfDZphmLD5BT0ejyQ7dbQ6OY6TpKQPh9PplIhruKxRkSDBIohRgveSwgmC3AMLl0be6/UKnlakBKa8WEWqK1TZaMIiFqtoCVTFQjgcaFgDQYwC/IyJrKyssOPj5LEteZo4Hp1Oh9TUVGg0mohxpoMHDwIIrNoRLc4lXpK7oKAgbLkdO3YI0890Ol3UOBe/f7gp3UiwCGIUaGlpgUajgcPhCFtGvDpsNDG6du1axJkU4iW9jUZjVPuysrIABMQtUrtHjx4V/ldSLz89bbgzLkiwCGIU8Hg8WLFiRUQxEC8SGW1Whc/nE0QmFOL12+TZm0LBPz2cN29e1LI8Sp528qK6evVqxfWKIcEiiJsM3x1MT08PW0a+SGSkrEksy6Kvry/i7ADxSiEsy0adpTF27FiYzeaoS+qI61EihAaDAVardfgLWQ4r8kUQxLDxer1RA9l2u10ScI8UzPZ6vTEF0QFwOp2Os9lsYZ8UKkUcRAfA6fV6zmazRQ2+DxcaOEoQScj69euFZZU1Gg0uX748ovpcLhfWrl0btF2r1WJgYAB5eXmYOnVqzBPk7Xa7JIWduF6dTod58+bhvvvui9/S4AmRQYIgRoR4/JXFYolLnVarNepSxWazOSbvyOPxcCaTKWKdWq02LktecxyNwyKIpKOiokLR+KtY8Xq9ksGqkQTG6XQqrre5uVlRvfEQrf/6Eq3dShBJRXV1tWRp7V27dsVlBdaJEyfCbDbj/vvvx5gxYzBu3Dj88Ic/DEqu29/fj6+++gpPPvmkonpnzJgBs9kMvV6PiRMnguO4kAl7u7q6MHHixIhPM6NBMSyCSDLy8/OFCcTxiF9FgmVZHD9+HH/6058ka70xDINLly4Nu16Px4O2tjbs379fssSS2WyOeYUGCSP20QiCiCuJiF8pQZ4WbaRPEDku0F0UP0nU6/Ujqo/GYRFEEiEekQ4ACxYsGFF9drtd8RLc8sGc4Qa1ut1uLFu2DFVVVVHrNJlMkkQtI10miASLIJIIeeKScPMHlVJeXq5YsLKysoTFFCNNBXr77bdx5MgRyZLfkRDHs5Qs1hgJEiyCSCLEo9WjzR+MRmFhIYChRSaj4Xa7BXGxWq1hy/X09AAAMjMzY7Yp0uh+JZBgEUQSIQ5QR5s/GA1+3p54TqLStiNNBWprawMgTRIcicbGRgCAXq/Hli1bFB0TDhIsgkgSduzYIZlAHEk0lHDq1CkAUJSZye12o6amBkCgGxpuZPqePXsEG/nlaiJht9sFYdu4caMiuyMy4scABEHEBflTuubm5hHVB4WDNsVP8nQ6XcQ6CwsLJQNMI61G6nA4Ylq6WQmU5osgRgGXy4XXX38dQGBZFv4lZu3atUK3bvz48Vi5cqWiBBMAsGHDBgCBIHdqaioOHDiA7OxsGI1GGAwGZGVl4fjx4zh69Cjee+89+P1+mEwmNDc3R6zX5/MBCHTvurq68M4776ClpQVGoxF5eXnQ6XSoq6vDe++9J4zrstlscUviS4JFEKPA3r170dXVJQgSn39RzvXr14eVVWfSpElgGAY2mw2LFi1CZWUlDhw4IIlT8Wg0GsUDOtva2qDX63H27FlJlhyPxxM0CdpsNsNoNI44biWGRroTxC3I888/j6lTp0o8Mn70+enTp4X1sXQ6XcRVT8WwLItXXnkFjz32mJC38MKFC6itrRVE9dy5c5g4cSJefPHFhKRmI8EiCEI10FNCgiBUAwkWQRCqgQSLIAjVQIJFEIRqIMEiCEI1kGARBKEaSLAIglANJFgEQagGEiyCIFQDCRZBEKqBBIsgCNVAgkUQhGogwSIIQjWQYBEEoRpIsAiCUA0kWARBqAYSLIIgVAMJFkEQqoEEiyAI1UCCRRCEaiDBIghCNSRNXsKqqip8+OGHGDt2LLRaLVauXAmTyTTaZhEEkUQkhWCxLIv9+/cLWWdnzZoFACRYBEFISIouodvthsfjAcuyAACLxYIDBw6MslUEQSQbCfOwXC5X2H1r1qyRvM/JyYHT6RQyxbIsi2vXriXKNIIgVErCMj+npaUhJSUFHR0d0Gq1AACNRgMA6Ovrw/z58/HHP/4xKJ21x+NBdnY2mpqahHTYBEEQAAAugbz55pscAC4vL0+y3ev1cgA4nU7HNTU1Sfbl5ORwTqczkWYlJb21hZxuViqnm5XKbWvt5VzrUwffl3L/uzSV05V+pqyO9fu43pFbw7nWp3LbWkdQg+R8opX+jNumqFx8bIuNWGxTUlch57oUeBe/z+v2IaFB97179wIADAaDZLtOp0NBQQHq6uqwZ88ewZPKzs7Gyy+/jJycHLhcLmRlZQV5YLcml/HBYTc27PscL2QC8NfiSbcV+7+w42cAADvWKqhlckE1vAUJNVQhsvNRNRl44YvPE1Jz8nxeKiKRasgwDAeA83q9Qfu0Wi0HgKuqquI4juPMZjNXVFTEOZ1Ozul0cgaDIZGmDZuTpamC56CbVcqdFO0TexXyfbxnIOwXflkDv+DC9v+xXlRHKre+tjfQpsjDkrYT4Re7tVRSl9hLOFmayq2v3SdpO7Bfauf62nC//1K7h8rJzieMByE5h9LSIC8m9DmGsy3cteU47tI+bv36fZyL/9xKPxs8989ExwTqF3+28vMJ2DboIdWKr6vsc760j1svPn/B9s+CrnWwhxXumg6WLd2n8LO5dUmoYAHgTCZT0HaHw8EBEETJ6XRyACSvhAuW7GYOd2OLkX/BxO8DN9jQl1f6PnBDib9gUhGSdXMu7ePWi+qSlG0tld4kovcS++TlLu3j1ovELXBzysROZm/4blDgxpLf1HIBiXgd5ecnuu6hhTecbVGu7aCABO0PuhaiMpL25IIlFsRBoZS1JbdN+uMU7gcm8jXlBVyou7VUcg63CwkTrIqKCkn8yuv1cs3NzdxLL73EAeAsFotQ1uv1cl6vl2NZlmNZNqRHNvpEimWE2ie6kVpLQ3ga4i+vUsEKvjklLQo3QGjBCPxKfyarU9xmGHvCtiMioqiEuS6SayHzYmQ3YsAr6g2uO9q1lQl1yHOXi7vEhmDBCvIEI8ShgkUptGBFu6bhvLGbF8tLDhIWwzp27BgAoK2tLeiJYXNzs2RQqCriVP7zOI8cPKhVum8y5v4EaARwme0G3DVYPPsF2YE5KIvJCB+63UDqU5MVlat2z0W1fNevnoqpxVBcPO8GfvIUJFZo5yAX3QqODnUOWszJQeBo/3mchxvVS+fCLjsy99Xg2uJ2bXPmYHos5SPSju2zHxm69jkPRD1iZNf09iFhgtXR0QEAaG1tFQSpqqoKxcXFeP7554VR7aNGWxlmPVITcldCgsU523Hiz6sQTWriiXqD3jko+7gaq5lQ+y6HKB7h2vrja1lkhoQq99WP4S2YjMt1G7D48M204dYmYSPd/X4/TCaTxHsym83QarXCiPZRJdMO7xefh3yFvMmZVKTCjW6f0n2X8fnfA/9N1s0B3N24OGKjA57IeTbETTuscsNjemoO8PfzUunwdaNJ0dGhbAt4XQAiX+cQxO/axoG2RlTnbMeJLz7Hnwti+2ka2TW9fUiIYO3evRsAMH78eMl2nU4Hn88Hn8+XHKIVExnY8GoOqv+1duhL1VaGWbPL8Bm/75EyfDa463LdC7C7rdhcMBnItKIspwYry9qHqhOOjYXJWP2UFU2/rRk6zl+LJ2dvwF5/qHIviLZfxt4n5+LJupGL2OSCp7DB/QJsQl3t2P5IDXJftQ4Ow4jtHD4rE3WfQlzLgOcyF9vbQlQXt2sbJ8Ti2VaGxb91RyotMLJrevuQkC4hP/5qwYIFku12eyAqwTCMOuJWMiYXVGP/+bmieEmg6/IzACioxglswOLZcwf3icdRTcbqP+9D9+xHMOvfEGJ/DGTaceJVcTuBrt9qRtZZ4suJYkG5r36s8Jd/Mn6xPAf2R+ai+lf74LVnyPZn4IUv9mH77KWY9dtY6w4+h9xXt2MDhmJQ/HVeOXuoyz7UvQ22LW7XdqRk2rH/VyK7c7bjxD4rFj/yV3zgX4XVTAbyfuXGyqVz0fjqxyiXHDzCa3qbEPepOSzLIjs7Gz6fD16vVyJMfAyLYRhcunQJLpcLjY2NePPNN+NpAkEQtyhxFay0tDTJpOWBgQGYTCbU1tYCCIhZfn4++vr6kJmZCZZlsW7dOhQVFcXLBIIgbmESNvk5HBcuXMDFixdx/PhxFBQUqLJrSBDE6HDTBYsgCGK4JMUCfgRBEEogwSIIQjWQYBEEoRpIsAiCUA0kWARBqAYSLIIgVAMJFkEQqoEEiyAI1UCCRRCEaiDBIghCNSRF5udIdZw7dw7/+Z//CYZhUFRUBJfLBYZhQiZZ9Xg8qKkJLO2Rnp4uzFV0uVyK2yQIInlJ2FzCjIzAGkqhMj9fvQKU6LoAABF9SURBVHoVer0eJSUlkrXdefhVHa5evQqLxYJx48bh4MGDYBgGdXV1QcvWAAFxW7t2LcxmM+bNm4dTp07h9OnT0Gq10Ov1tIQNQdwKJDLDBZ85x2azCdtYluWam5uFzM+hMuTk5ORwWVlZkm3Nzc2cwWAImTasqamJAxCUMdpmswW1TxCEekloDOvTTz8FMORtAcDMmTNhMplgMBjAsiwOHjwoOWb37t1wu9149tlnJdtNJhMYhgladhkAHn/8cRQUFAR1+1asWAEA2LRpU1zOhyCI0SWhgnX8+HEAwM9//vOgfX19fQCAzExpxof33nsPAJCVlRV0zPjx44OWXd69ezd8Ph8GBgaCyvf09AQlwrg1OYvXJtRh2oQ6TFt3Ar2jbU5S0Iv6dYPXZEITTiayqZ4T2DChAfU9YSypbYjb53KyvA7Tys/GoSZ1krCgOy8kFoslSDAqKyvh8/mg1+thNBol+86fPw8A2Lp1K9atWycJrldUVATVlZKSAiAQK7Pb7SgrG8pGp9VqUVpaGtfzSkpa/SjPn4H2PYsxZbRtSRZ6WByun4RD/blYmOi2pi1GdX+iGyGAmzCsYerUqQACgXSPx4P169fjueeeg8Viwdmzwb8Ujz76KICA4OXm5mL69OkoLi4Gy7IhPSWtViukDisvL8esWbOwbNky2O12GI3GkEH9YdNzAht4T2ZCHTbUDv1mBv3ySX51z+K1CQ2obxUdv+4EesWeUYRfaABAa5PQrrhsb20Dpt17Baj/EhkT6vBaa/ChvbUNIY8NPqcmnGxtEnkDAfvEdQZ5CxK7pN5Mb20DNtSeEM4xUI/Y8wn2CCPaGoT4+ok+j9YmTEv7EodxBQ/JPieek+V1eK2WP3e+nci2nSwPfZ7BHpb0c3V9Ib/e0vOSf3ek7UTyqKTnf1t4XokKjlksFg4Ap9frOb1ezxkMBiHQ3tzcHPHYoqIijmEYDoDw0ul0Yct7vV6hfv6l1Wq5ioqK8I20lnK6WakhX6HTf5/hfn9nLff7E6Hft5XVcj8uOzNU3PcpV3jnu9xffENlf/zEp9xXomN/LOwPcbyYEx9IyoZ8L9Qd6tgPuLaQ7wN2FO77SmRzsJ1D58xxX+17d2i/3A7+vAbP46t978r2f8X95QlRe/LzjmirHJntIc8l3LGD7Ur2R7ZNct7y9yE+67DXVFI2uJ22slrpZ3niA+7HIb9ncnuD7b8VSViX8OjRowAg8aIqKyvx3HPPYceOHRE9H4fDgWeffRY9PT345JNP8Nxzz4FlWbjd7pDjr3Q6Hdrb28GyLHbt2oWWlhZ4PB6888472LJlS+hGMu3wfiFPhh4LaXimPy2mI2yb+S5bGowlnQDmIH9aYN/CX0wCdn6DXkDWretF/c4rWF5zt1AWi3JxqKQOD719Fvm22GzAolz08N2XVj/KMQmHVg22OG0xNpV8icNnhlGX5LxE5E+Bkbe7tRObMQPtq4bOcKEtHbYJ3ah/LA35Uesfore2O9ANFupKwzPH/Jh2bydOrpqirBtYwgyVi2KbUXbolFUr0LMqRJ0hrum2ml4cblBiELDQVgCJU7mIgQ1XFBw5Bfl7CoKv4S1GQrqEe/bsgc/nQ0FBgWR7VlYWtFot2tpCZcQcylsIBETIaDRiy5YtcDgcAIAjR45IyrtcLklCVp1Oh7KyMpSWloJhGCGwHx/SsKYmBeX3xs/9Xj57koJSV3CxHvipTipj02enKGtkUTp25ge6RtPk3Tv2WyB/HKaLii/8hRKbZIi6lQ9tC1+sl/1W6LoOdXk6h/LzRbBVzsUvrgN33SkV9x+Pw/LYrVdk25RVc2AT9kcIsIe4plN042K3R+gad8ryFwq1In/zJBy2fnRbPWxJiGBdvhxI6TlnzhzJ9oGBgbBP9AoLC9Hd3R2yvokTJwIAfvSjH0m2l5eXw+cLzmluMpkwduzYyE8H28owa/bckK+QGYYx+KvaX4CeY5OAbZ1BcazkJPDL29NfgEMlGBTcaLEhhfBClfYlfnpsqI2I5M9Ae3+g7NBrxaD3mEBblRDRtjQ801+Anv67sTP/OjanJebpIy9UGdZxONRfgJ7+dNjCFV6UG7Dx7Aws58X0Fo9jJUSw+PFXBoNBsp33rBiGCTpGo9EITwjl/P73vwfDMEFjszo6OkIKFv8UcuXKleGNzLTD+8XnIV8vZIY/DIDwRWmvScHhBjbBv2yTMD0f+BsrbeXiF9djrmmhbeiGO/xxb+CXv/7bodTqGPQQFNL7cS8Ol6Sjp78AzyyKXj5Ue0ptlTN9dgpw5hvptf9/3+KwUuOHbRsvqumw4QpaZF7gyK5pL1oarsN2rAA9sTzdnLYY1cIPqT+xQzhGmbgLFsuywvirUGOpxFRVVWHZsmUAgFOnTqGvr0/SLQQCYtXR0QGn0ynZXlhYCCDQ/ZS3/95770Gv18c5Qav8iVngy7V8hQ5TMHgDib4sJ9/+ctg3jxTe9T8x5Gm0NuGhbSnY+ZiC+FVrk+yJFovD9SlYvnSK0AXbxXuJPSdQYhULYUAsyz/gf7XPwmWVCaVINHprGyJ2CYUun9gLENsXyVYZfBetRPBwz+K1e69geU368IYxRLEt+OloIFZllAt1tGs67U78FCIR7jmBXbJrNvTj1Iv6deG6hIEnmpIn1R9ckcblbkHiFnQXZ3XmWbJkCfLy8oR5fFlZWTAYDLh69Sry8/PR1dWFF198EUAgPvXwww+jsbERp06dErwwt9uNpqamoGD7d999B5PJhKysLEyfPh3z58+HXq+Hy+VCXl4empqa4nVqg/BB3bqhL1BJOnoGg6tTVi3GzoaP8NCEOgCA7Vg6bNtCd3FjZlEueo41YVpaHTYDAFKw8+yKoSB8lGMPldQJdgVsKxB1wdJxccJHmGYN1GsrSREF3acgf/sMHE7rxLRtnQAm4dCxScDOwb2D55wx4cvAhpJ0tNd0I8Pqx0lbmiSOI9S3Jx0XJ/D1IVAn701EtFVOGp7pB14TbAeW19yN6lXDHYkWxTb5uQ5+BsHiIL+mk7CzJkUUdOe/R4P782fgUE0KDn8xeOz2GTicNnROtmN3Yyc+wuYPzuKZRWnSdmRlkT8D7XtifAijMpIi87PH4wEQiD21tLSgtbUVAwMD6OvrkwwEFSMeJOrxeNDQEPhGbNq06TYY2Z44emsbkNEwhQahEkkJZX4mJJBgEckMLeBHEIRqIA+LIAjVQB4WQRCqgQSLIAjVQIJFEIRqIMEiCEI1kGARBKEaSLAIglANJFgEQagGEiyCIFQDCRZBEKqBBIsgCNWQlILFsizsdjsqKyvhcrmE7W63O+wxHo9HKM8vmyxfW4sgCHUT17mEHo8Ha9euBQBhGeSxY8dK3ou3/eY3vwlaZK+qqgrl5eUYGBjAihUrcO3aNZw+fRoTJ07EPffcE7TcjMvlwtatW3H9+nWYzWb4fD74fD6kp6fj66+/Rm1tbbxOjyCI0SaeKXiKioo4g8HA2e12zuv1chzHCem3HA4Hx3Ecx7IsZ7PZOABB6b6cTicHgHM6nZLtfHmXyyXZzqf3MplMku3Nzc0cAM5iscTz9AiCGGXiKlgajSa4gRA5Bb1eL6fVagVR42EYhsvKygqqgxcyOXzuQ3k9Xq+XYxiGq6qqGs5pEASRpMQthuV2u7FixQrJtsrKSgAIWgFUp9Ph2rVrku0sy8Lv90Ov14es32KxBG07cuQIsrKyQtYPAA8//HDsJxKB3tqGGLKSDGZ7VpjxJWjNcJUgztQcKS0XQcSDuAmW3+/HunXrJNs6OwNrY8sFhWVZIdcgD5/9xu12BwXLs7KyYLVaEQqfz4etW7cGbXc6nbRUcsIRZ3lRljmHIEZEIt03Pn6lpGvGdxMhSk1fUFAQMd282WyWpKY3GAwJi1sF0q7XBl5CKvFAenBhu5Bqnk9FXytJM86nHR96DaVKl6dClyKtT5zSPvg4aXr5trJarnDfGZGdgTTpgVTtgVfk9ObKzjG07eHt5m0bsiFgY3BK9kHkKd75FPB3Ss9L2PfEp9xfymTtyq6/8LmEqO9WT/muVhIqWAgRv4oEH0TnRYgXInkQnsfj8XBFRUWS8gA4s9kcvbHWUk43KzXka1tr6EO+2veu6CYavJHDvj/D/V58E534QHpT8TfzYPnwghWod+gGkr5XIljidnmREOo78YFEOEO1He2cJTd+LHaL2uXtUiRYg+Iy1O6gXfx1GNwvER35eUoEUHrNgt8TyULc0nzJCRe/ioROp0N7eztYlsWuXbvQ0tICj8eD8vJyrFmzJqi80WiE0WjEypUr4fP58Omnn6KqqgodHR3RG8u0w/vFCMZptXZic/0kHBLSKvFpl7pR/1hacGqqRbno6RdvSIOxpBOxE0jkmR/LISVzBHsW/mISsA3YxKfDWsTAhm582QMslNsc6zkqtnswp2PNYiFN1sLHZmD5ti/DHy5m2mJU9y+W1G1ckQI0iAuJ8xn2on7nFdiOFQyl5Zq2GNtqGpDx9lnkB6VWTsMz/bd2uiy1krCBo+HiV6FwuVxCqi/+mLKyMmHMlTjXIRCIgYkHlJpMJqxZswYOhwMGgwEsy0rqSwS97LdA/jhp7r1pd+Kn0Q7k07tPqIucdFSAT6T6USC4HY/AvNzuMAz7HAFEtvsKLtYDP9WJ8vJM02F5TCoM8MltA6ndI2XCDrRXfm+d8IBAekwa1tSkDO2/xdO9q5mECRbv5cjT1Ydiz549IVPOG41GaLVa3HfffZLtdXV1IcsDQGpqKgBAq9VGbrStDLNmzw352t4W1eTY4YUq7Uv8dDBIfahE4bGLctHTX4CeszOwvP5LZKjlpkqY3bxQdeJvNXejp78A7TUpUY/iHw5IXraAJzVl1YrA+2OTgG2dmDZBmlWZSA4SKlg6nQ7PPvts1LJHjhwRMj2LqayshM/nw4MPPijZ/umnnwoenBiWZVFXVyckaI1Iph3eLz4P+XohM6rJmKIbB9R/i4vijT3f4G9hyvd+3IvDJekje5o2bTGqhZvKP5TSPUHEeo5hCbJ7Eqbni1OyA7wXpIhWP8rzZ6C9v0BhpudQ7YVhUGTba1JwuIFV3TCTW524ChbLsmBZFnv37gUAIaszP7cvFBs2bAAAlJeXS8p5PB7s378fZrM5KH51/PhxuN1uSbcQAH79619Dq9WioqIiXqcUnkXp2Jl/BQ8JHkMv6l/4EodF8aIgznwj3AC9tQ0Ku4S9qF8n/bU/+cEVoITBQvCi0ouWHr7ebpQP64RCMJxzVGQ3313sFET3ZHmnxO7ps1Mkonzy7S9xWFy9WEhbm6J0Cfn2TojGxYntC3hsQ+PIBmNsK3SUTDbJiFvQ3eVy4emnn8bYsWMxduxYaLVadHV1IT8/EJior6+HyWQKOm7SpEkwm80wGAzIzs5GVlYWrl27ho6ODiEuJWb37t3QarW45557sHXrVuzZswfjx4+Hx+NBVlYWLl68GNRGvJiydAqWWzsxbZsfh/pzkb/nbmDdR5g2YdDbK0kXuhh8UP2htDocrrkb1asWY2fDR8iY8KVQtr2mGxlWP07a0iLElPhA90eYxg9Fy5+Bdj4QvigXh0rq8FBaHTYDWF6Tjp35nYjPVZgS5RyjHBvF7vaaBmRMqBusdxJsuDJ09OD1emhwv+1YOmzbuoVjD5XUCfuQPwPtx4CMe3vRsh2hH0jw7Q1eJwBYXnP3oIc2Bc8c82PavXVDolmSjh5F3htxMxn1RKoul0vwoFpaWgAA7777btAkZx7eC9PpdGhpaQHHcfD5fFiyZAlmzpx5c4wmEsBZvDahEzhGA1CJ8Iy6YBFEABIsIjpJuR4WQRBEKMjDIghCNZCHRRCEaiDBIghCNZBgEQShGkiwCIJQDSRYBEGoBhIsgiBUAwkWQRCqgQSLIAjVQIJFEIRqIMEiCEI1kGARBKEaSLAIglANJFgEQagGEiyCIFQDCRZBEKqBBIsgCNVAgkUQhGr4/+DuWMEqkZ6eAAAAAElFTkSuQmCC)"
      ],
      "metadata": {
        "id": "YNR2skGjJmTI"
      }
    },
    {
      "cell_type": "markdown",
      "source": [
        "Linear_Regression"
      ],
      "metadata": {
        "id": "XyFCKrTdcTby"
      }
    },
    {
      "cell_type": "code",
      "source": [
        "from sklearn.metrics import mean_squared_error      #for getting the mean squared error\n",
        "from sklearn.metrics import r2_score         #to get the accuracy of each model"
      ],
      "metadata": {
        "id": "Vbz4HTpnch2F"
      },
      "execution_count": 28,
      "outputs": []
    },
    {
      "cell_type": "code",
      "source": [
        "from sklearn.linear_model import LinearRegression\n",
        "model = LinearRegression()\n",
        "model.fit(X_train, y_train)\n",
        "model.predict(X_test)\n",
        "\n",
        "diameterPrediction  = model.predict(X_test)\n",
        "mse = mean_squared_error(y_test, diameterPrediction)\n",
        "rmse = np.sqrt(mse)\n",
        "print(\"root mean square error : \"+str(rmse))\n",
        "\n",
        "r2 = r2_score(y_test,diameterPrediction)\n",
        "print(\"R2 Score : \",r2) \n"
      ],
      "metadata": {
        "colab": {
          "base_uri": "https://localhost:8080/"
        },
        "id": "LA_QKOwBcRm0",
        "outputId": "8d59b436-ae93-4b06-9c6f-1d6f70ec4122"
      },
      "execution_count": 29,
      "outputs": [
        {
          "output_type": "stream",
          "name": "stdout",
          "text": [
            "root mean square error : 8.28102811721005\n",
            "R2 Score :  0.30088884003619953\n"
          ]
        }
      ]
    },
    {
      "cell_type": "code",
      "source": [
        "print(f'constant = {model.intercept_}')\n",
        "print(f'coefficients = {model.coef_}')"
      ],
      "metadata": {
        "colab": {
          "base_uri": "https://localhost:8080/"
        },
        "id": "_lFdaoUweSs0",
        "outputId": "cf7056d8-d482-4726-b2bc-374efcbdccd8"
      },
      "execution_count": 22,
      "outputs": [
        {
          "output_type": "stream",
          "name": "stdout",
          "text": [
            "constant = 5.487630863134105\n",
            "coefficients = [-7.99782220e+10  3.45900726e+00  1.12275706e+00  7.78859139e-02\n",
            "  6.68295228e-02  1.35552629e+10  7.60625205e+10  4.01781962e+00\n",
            "  1.28819518e+00  2.27075118e+00  3.54401834e+00 -1.66566945e-02\n",
            "  3.15666079e+11  4.23961685e+11  5.09699920e+10  1.87710454e+11\n",
            "  1.34833345e+11  4.66160620e+11  1.95778937e+12  3.62518323e+11\n",
            "  1.62335154e+12  8.28293924e+11  6.94588766e+10]\n"
          ]
        }
      ]
    },
    {
      "cell_type": "code",
      "source": [
        "#Model Evaluation using Adjusted R-Square. \n",
        "# Here n = no. of observations and p = no. of independent variables\n",
        "n = 137636\n",
        "p = 23\n",
        "Adj_r_square = 1-(1-r2)*(n-1)/(n-p-1)\n",
        "print('Adjusted R-Square Error:', Adj_r_square)"
      ],
      "metadata": {
        "colab": {
          "base_uri": "https://localhost:8080/"
        },
        "id": "7tqUITKRiRLE",
        "outputId": "c3b4ebb1-a4ff-402a-d3b9-4ca9770c99fe"
      },
      "execution_count": 30,
      "outputs": [
        {
          "output_type": "stream",
          "name": "stdout",
          "text": [
            "Adjusted R-Square Error: 0.3007719929830416\n"
          ]
        }
      ]
    },
    {
      "cell_type": "markdown",
      "source": [
        "Ridge Regression"
      ],
      "metadata": {
        "id": "qdgw7OT8jB1w"
      }
    },
    {
      "cell_type": "code",
      "source": [
        "from sklearn.linear_model import Ridge\n",
        "model = Ridge()\n",
        "model.fit(X_train, y_train)\n",
        "model.predict(X_test)\n",
        "\n",
        "diameterPrediction  = model.predict(X_test)\n",
        "mse = mean_squared_error(y_test, diameterPrediction)\n",
        "rmse = np.sqrt(mse)\n",
        "print(\"root mean square error : \"+str(rmse))\n",
        "\n",
        "r2 = r2_score(y_test,diameterPrediction)\n",
        "print(\"R2 Score : \",r2) "
      ],
      "metadata": {
        "colab": {
          "base_uri": "https://localhost:8080/"
        },
        "id": "rruyN7kQhJQ7",
        "outputId": "8e63248c-231d-4ba4-a056-35e3da8cc1ad"
      },
      "execution_count": 60,
      "outputs": [
        {
          "output_type": "stream",
          "name": "stdout",
          "text": [
            "root mean square error : 8.281017641191982\n",
            "R2 Score :  0.3008906088736937\n"
          ]
        }
      ]
    },
    {
      "cell_type": "code",
      "source": [
        "from sklearn.model_selection import GridSearchCV\n",
        "\n",
        "ridge=Ridge()\n",
        "parameters={'alpha':[1e-15,1e-10,1e-8,1e-3,1e-2,1,5,10,20,30,35,40,45,50,55,65,75,85,100,115,125,135,150,160]}\n",
        "ridge_regressor=GridSearchCV(ridge,parameters,scoring='neg_mean_squared_error',cv=5)\n",
        "ridge_regressor.fit(X_train, y_train)"
      ],
      "metadata": {
        "colab": {
          "base_uri": "https://localhost:8080/"
        },
        "id": "zKTmsO44jAOM",
        "outputId": "efb46aff-a3f8-4b5c-9d11-5e191d95cc55"
      },
      "execution_count": 61,
      "outputs": [
        {
          "output_type": "stream",
          "name": "stderr",
          "text": [
            "/usr/local/lib/python3.7/dist-packages/sklearn/linear_model/_ridge.py:157: LinAlgWarning: Ill-conditioned matrix (rcond=5.28002e-17): result may not be accurate.\n",
            "  return linalg.solve(A, Xy, sym_pos=True, overwrite_a=True).T\n"
          ]
        },
        {
          "output_type": "execute_result",
          "data": {
            "text/plain": [
              "GridSearchCV(cv=5, estimator=Ridge(),\n",
              "             param_grid={'alpha': [1e-15, 1e-10, 1e-08, 0.001, 0.01, 1, 5, 10,\n",
              "                                   20, 30, 35, 40, 45, 50, 55, 65, 75, 85, 100,\n",
              "                                   115, 125, 135, 150, 160]},\n",
              "             scoring='neg_mean_squared_error')"
            ]
          },
          "metadata": {},
          "execution_count": 61
        }
      ]
    },
    {
      "cell_type": "code",
      "source": [
        "print(ridge_regressor.best_params_)"
      ],
      "metadata": {
        "colab": {
          "base_uri": "https://localhost:8080/"
        },
        "id": "J3IiAkY6m5Bs",
        "outputId": "a2dae0c2-ecb8-4912-f0aa-b6f9d94c7798"
      },
      "execution_count": 63,
      "outputs": [
        {
          "output_type": "stream",
          "name": "stdout",
          "text": [
            "{'alpha': 160}\n"
          ]
        }
      ]
    },
    {
      "cell_type": "code",
      "source": [
        "model = Ridge(alpha=160)\n",
        "model.fit(X_train, y_train)\n",
        "\n",
        "diameterPrediction  = model.predict(X_test)\n",
        "mse = mean_squared_error(y_test, diameterPrediction)\n",
        "rmse = np.sqrt(mse)\n",
        "print(\"root mean square error : \"+str(rmse))\n",
        "\n",
        "r2 = r2_score(y_test,diameterPrediction)\n",
        "print(\"R2 Score : \",r2) "
      ],
      "metadata": {
        "colab": {
          "base_uri": "https://localhost:8080/"
        },
        "id": "gG855ctNm9Xv",
        "outputId": "655b42a1-8a4a-48ff-b4ef-fe6e99857b4b"
      },
      "execution_count": 64,
      "outputs": [
        {
          "output_type": "stream",
          "name": "stdout",
          "text": [
            "root mean square error : 8.27782496044517\n",
            "R2 Score :  0.30142957713057217\n"
          ]
        }
      ]
    },
    {
      "cell_type": "code",
      "source": [
        "sns.distplot(y_test-diameterPrediction)"
      ],
      "metadata": {
        "colab": {
          "base_uri": "https://localhost:8080/",
          "height": 296
        },
        "id": "wPGSaDSEowyt",
        "outputId": "5a832483-a70f-49e4-8b76-0f299cfab869"
      },
      "execution_count": 65,
      "outputs": [
        {
          "output_type": "execute_result",
          "data": {
            "text/plain": [
              "<matplotlib.axes._subplots.AxesSubplot at 0x7f341f9ed110>"
            ]
          },
          "metadata": {},
          "execution_count": 65
        },
        {
          "output_type": "display_data",
          "data": {
            "text/plain": [
              "<Figure size 432x288 with 1 Axes>"
            ],
            "image/png": "[encoded data removed]"
          },
          "metadata": {
            "needs_background": "light"
          }
        }
      ]
    },
    {
      "cell_type": "markdown",
      "source": [
        "Lasso Regression"
      ],
      "metadata": {
        "id": "luI4m919r8T1"
      }
    },
    {
      "cell_type": "code",
      "source": [
        "from sklearn import linear_model\n",
        "model = linear_model.Lasso(alpha=0.1)\n",
        "model.fit(X_train, y_train)\n",
        "model.predict(X_test)\n",
        "\n",
        "diameterPrediction  = model.predict(X_test)\n",
        "mse = mean_squared_error(y_test, diameterPrediction)\n",
        "rmse = np.sqrt(mse)\n",
        "print(\"root mean square error : \"+str(rmse))\n",
        "\n",
        "r2 = r2_score(y_test,diameterPrediction)\n",
        "print(\"R2 Score : \",r2)"
      ],
      "metadata": {
        "colab": {
          "base_uri": "https://localhost:8080/"
        },
        "id": "EYJIJxzcowts",
        "outputId": "b1c991d9-daad-42a5-87dc-a6bbd89fe1e1"
      },
      "execution_count": 67,
      "outputs": [
        {
          "output_type": "stream",
          "name": "stdout",
          "text": [
            "root mean square error : 8.263816406244741\n",
            "R2 Score :  0.3037919564493371\n"
          ]
        }
      ]
    },
    {
      "cell_type": "code",
      "source": [
        "from sklearn.linear_model import Lasso\n",
        "from sklearn.model_selection import GridSearchCV\n",
        "lasso=Lasso()\n",
        "parameters={'alpha':[1e-15,1e-10,1e-8,1e-3,1e-2,1,5,10,20,30,35,40,45,50,55,100,115,125,135,150,160]}\n",
        "lasso_regressor=GridSearchCV(lasso,parameters,scoring='neg_mean_squared_error',cv=5)\n",
        "\n",
        "lasso_regressor.fit(X_train, y_train)\n"
      ],
      "metadata": {
        "colab": {
          "base_uri": "https://localhost:8080/"
        },
        "id": "sxz9glkvowkd",
        "outputId": "10e479cd-e3e3-461a-e38b-c2ef145d86af"
      },
      "execution_count": 68,
      "outputs": [
        {
          "output_type": "stream",
          "name": "stderr",
          "text": [
            "/usr/local/lib/python3.7/dist-packages/sklearn/linear_model/_coordinate_descent.py:648: ConvergenceWarning: Objective did not converge. You might want to increase the number of iterations, check the scale of the features or consider increasing regularisation. Duality gap: 1.959e+06, tolerance: 7.355e+02\n",
            "  coef_, l1_reg, l2_reg, X, y, max_iter, tol, rng, random, positive\n",
            "/usr/local/lib/python3.7/dist-packages/sklearn/linear_model/_coordinate_descent.py:648: ConvergenceWarning: Objective did not converge. You might want to increase the number of iterations, check the scale of the features or consider increasing regularisation. Duality gap: 2.006e+06, tolerance: 6.978e+02\n",
            "  coef_, l1_reg, l2_reg, X, y, max_iter, tol, rng, random, positive\n",
            "/usr/local/lib/python3.7/dist-packages/sklearn/linear_model/_coordinate_descent.py:648: ConvergenceWarning: Objective did not converge. You might want to increase the number of iterations, check the scale of the features or consider increasing regularisation. Duality gap: 2.047e+06, tolerance: 7.639e+02\n",
            "  coef_, l1_reg, l2_reg, X, y, max_iter, tol, rng, random, positive\n",
            "/usr/local/lib/python3.7/dist-packages/sklearn/linear_model/_coordinate_descent.py:648: ConvergenceWarning: Objective did not converge. You might want to increase the number of iterations, check the scale of the features or consider increasing regularisation. Duality gap: 2.194e+06, tolerance: 8.080e+02\n",
            "  coef_, l1_reg, l2_reg, X, y, max_iter, tol, rng, random, positive\n",
            "/usr/local/lib/python3.7/dist-packages/sklearn/linear_model/_coordinate_descent.py:648: ConvergenceWarning: Objective did not converge. You might want to increase the number of iterations, check the scale of the features or consider increasing regularisation. Duality gap: 2.072e+06, tolerance: 7.646e+02\n",
            "  coef_, l1_reg, l2_reg, X, y, max_iter, tol, rng, random, positive\n",
            "/usr/local/lib/python3.7/dist-packages/sklearn/linear_model/_coordinate_descent.py:648: ConvergenceWarning: Objective did not converge. You might want to increase the number of iterations, check the scale of the features or consider increasing regularisation. Duality gap: 1.959e+06, tolerance: 7.355e+02\n",
            "  coef_, l1_reg, l2_reg, X, y, max_iter, tol, rng, random, positive\n",
            "/usr/local/lib/python3.7/dist-packages/sklearn/linear_model/_coordinate_descent.py:648: ConvergenceWarning: Objective did not converge. You might want to increase the number of iterations, check the scale of the features or consider increasing regularisation. Duality gap: 1.986e+06, tolerance: 6.978e+02\n",
            "  coef_, l1_reg, l2_reg, X, y, max_iter, tol, rng, random, positive\n",
            "/usr/local/lib/python3.7/dist-packages/sklearn/linear_model/_coordinate_descent.py:648: ConvergenceWarning: Objective did not converge. You might want to increase the number of iterations, check the scale of the features or consider increasing regularisation. Duality gap: 2.047e+06, tolerance: 7.639e+02\n",
            "  coef_, l1_reg, l2_reg, X, y, max_iter, tol, rng, random, positive\n",
            "/usr/local/lib/python3.7/dist-packages/sklearn/linear_model/_coordinate_descent.py:648: ConvergenceWarning: Objective did not converge. You might want to increase the number of iterations, check the scale of the features or consider increasing regularisation. Duality gap: 2.194e+06, tolerance: 8.080e+02\n",
            "  coef_, l1_reg, l2_reg, X, y, max_iter, tol, rng, random, positive\n",
            "/usr/local/lib/python3.7/dist-packages/sklearn/linear_model/_coordinate_descent.py:648: ConvergenceWarning: Objective did not converge. You might want to increase the number of iterations, check the scale of the features or consider increasing regularisation. Duality gap: 2.064e+06, tolerance: 7.646e+02\n",
            "  coef_, l1_reg, l2_reg, X, y, max_iter, tol, rng, random, positive\n",
            "/usr/local/lib/python3.7/dist-packages/sklearn/linear_model/_coordinate_descent.py:648: ConvergenceWarning: Objective did not converge. You might want to increase the number of iterations, check the scale of the features or consider increasing regularisation. Duality gap: 1.957e+06, tolerance: 7.355e+02\n",
            "  coef_, l1_reg, l2_reg, X, y, max_iter, tol, rng, random, positive\n",
            "/usr/local/lib/python3.7/dist-packages/sklearn/linear_model/_coordinate_descent.py:648: ConvergenceWarning: Objective did not converge. You might want to increase the number of iterations, check the scale of the features or consider increasing regularisation. Duality gap: 8.700e+05, tolerance: 6.978e+02\n",
            "  coef_, l1_reg, l2_reg, X, y, max_iter, tol, rng, random, positive\n",
            "/usr/local/lib/python3.7/dist-packages/sklearn/linear_model/_coordinate_descent.py:648: ConvergenceWarning: Objective did not converge. You might want to increase the number of iterations, check the scale of the features or consider increasing regularisation. Duality gap: 1.986e+06, tolerance: 7.639e+02\n",
            "  coef_, l1_reg, l2_reg, X, y, max_iter, tol, rng, random, positive\n",
            "/usr/local/lib/python3.7/dist-packages/sklearn/linear_model/_coordinate_descent.py:648: ConvergenceWarning: Objective did not converge. You might want to increase the number of iterations, check the scale of the features or consider increasing regularisation. Duality gap: 2.161e+06, tolerance: 8.080e+02\n",
            "  coef_, l1_reg, l2_reg, X, y, max_iter, tol, rng, random, positive\n",
            "/usr/local/lib/python3.7/dist-packages/sklearn/linear_model/_coordinate_descent.py:648: ConvergenceWarning: Objective did not converge. You might want to increase the number of iterations, check the scale of the features or consider increasing regularisation. Duality gap: 1.467e+06, tolerance: 7.646e+02\n",
            "  coef_, l1_reg, l2_reg, X, y, max_iter, tol, rng, random, positive\n",
            "/usr/local/lib/python3.7/dist-packages/sklearn/linear_model/_coordinate_descent.py:648: ConvergenceWarning: Objective did not converge. You might want to increase the number of iterations, check the scale of the features or consider increasing regularisation. Duality gap: 1.681e+03, tolerance: 7.355e+02\n",
            "  coef_, l1_reg, l2_reg, X, y, max_iter, tol, rng, random, positive\n",
            "/usr/local/lib/python3.7/dist-packages/sklearn/linear_model/_coordinate_descent.py:648: ConvergenceWarning: Objective did not converge. You might want to increase the number of iterations, check the scale of the features or consider increasing regularisation. Duality gap: 2.527e+03, tolerance: 7.639e+02\n",
            "  coef_, l1_reg, l2_reg, X, y, max_iter, tol, rng, random, positive\n",
            "/usr/local/lib/python3.7/dist-packages/sklearn/linear_model/_coordinate_descent.py:648: ConvergenceWarning: Objective did not converge. You might want to increase the number of iterations, check the scale of the features or consider increasing regularisation. Duality gap: 2.657e+03, tolerance: 8.080e+02\n",
            "  coef_, l1_reg, l2_reg, X, y, max_iter, tol, rng, random, positive\n",
            "/usr/local/lib/python3.7/dist-packages/sklearn/linear_model/_coordinate_descent.py:648: ConvergenceWarning: Objective did not converge. You might want to increase the number of iterations, check the scale of the features or consider increasing regularisation. Duality gap: 3.369e+03, tolerance: 7.646e+02\n",
            "  coef_, l1_reg, l2_reg, X, y, max_iter, tol, rng, random, positive\n",
            "/usr/local/lib/python3.7/dist-packages/sklearn/linear_model/_coordinate_descent.py:648: ConvergenceWarning: Objective did not converge. You might want to increase the number of iterations, check the scale of the features or consider increasing regularisation. Duality gap: 3.097e+03, tolerance: 7.355e+02\n",
            "  coef_, l1_reg, l2_reg, X, y, max_iter, tol, rng, random, positive\n",
            "/usr/local/lib/python3.7/dist-packages/sklearn/linear_model/_coordinate_descent.py:648: ConvergenceWarning: Objective did not converge. You might want to increase the number of iterations, check the scale of the features or consider increasing regularisation. Duality gap: 3.258e+03, tolerance: 8.080e+02\n",
            "  coef_, l1_reg, l2_reg, X, y, max_iter, tol, rng, random, positive\n"
          ]
        },
        {
          "output_type": "stream",
          "name": "stdout",
          "text": [
            "{'alpha': 1e-15}\n"
          ]
        },
        {
          "output_type": "stream",
          "name": "stderr",
          "text": [
            "/usr/local/lib/python3.7/dist-packages/sklearn/linear_model/_coordinate_descent.py:648: ConvergenceWarning: Objective did not converge. You might want to increase the number of iterations, check the scale of the features or consider increasing regularisation. Duality gap: 2.579e+06, tolerance: 9.424e+02\n",
            "  coef_, l1_reg, l2_reg, X, y, max_iter, tol, rng, random, positive\n"
          ]
        }
      ]
    },
    {
      "cell_type": "code",
      "source": [
        "print(lasso_regressor.best_params_)"
      ],
      "metadata": {
        "colab": {
          "base_uri": "https://localhost:8080/"
        },
        "id": "s1jjVFD0uLb9",
        "outputId": "1164d85a-dd4a-4eb2-9379-9a69cfd90c0a"
      },
      "execution_count": 69,
      "outputs": [
        {
          "output_type": "stream",
          "name": "stdout",
          "text": [
            "{'alpha': 1e-15}\n"
          ]
        }
      ]
    },
    {
      "cell_type": "code",
      "source": [
        "model = linear_model.Lasso(alpha=1e-15)\n",
        "model.fit(X_train, y_train)\n",
        "model.predict(X_test)\n",
        "\n",
        "diameterPrediction  = model.predict(X_test)\n",
        "mse = mean_squared_error(y_test, diameterPrediction)\n",
        "rmse = np.sqrt(mse)\n",
        "print(\"root mean square error : \"+str(rmse))\n",
        "\n",
        "r2 = r2_score(y_test,diameterPrediction)\n",
        "print(\"R2 Score : \",r2)"
      ],
      "metadata": {
        "colab": {
          "base_uri": "https://localhost:8080/"
        },
        "id": "FaGynPi7owha",
        "outputId": "ebabff43-7adf-4013-fa4f-59cdaad19d58"
      },
      "execution_count": 70,
      "outputs": [
        {
          "output_type": "stream",
          "name": "stdout",
          "text": [
            "root mean square error : 8.28103911414248\n",
            "R2 Score :  0.30088698324180574\n"
          ]
        },
        {
          "output_type": "stream",
          "name": "stderr",
          "text": [
            "/usr/local/lib/python3.7/dist-packages/sklearn/linear_model/_coordinate_descent.py:648: ConvergenceWarning: Objective did not converge. You might want to increase the number of iterations, check the scale of the features or consider increasing regularisation. Duality gap: 2.579e+06, tolerance: 9.424e+02\n",
            "  coef_, l1_reg, l2_reg, X, y, max_iter, tol, rng, random, positive\n"
          ]
        }
      ]
    },
    {
      "cell_type": "code",
      "source": [
        "sns.distplot(y_test-diameterPrediction)"
      ],
      "metadata": {
        "colab": {
          "base_uri": "https://localhost:8080/",
          "height": 296
        },
        "id": "lS7CBdv-owco",
        "outputId": "4c07e711-b487-4f71-89e5-de2de4f6f53e"
      },
      "execution_count": 71,
      "outputs": [
        {
          "output_type": "execute_result",
          "data": {
            "text/plain": [
              "<matplotlib.axes._subplots.AxesSubplot at 0x7f341f825650>"
            ]
          },
          "metadata": {},
          "execution_count": 71
        },
        {
          "output_type": "display_data",
          "data": {
            "text/plain": [
              "<Figure size 432x288 with 1 Axes>"
            ],
            "image/png": "[encoded data removed]"
          },
          "metadata": {
            "needs_background": "light"
          }
        }
      ]
    },
    {
      "cell_type": "markdown",
      "source": [
        "K Nearest Neighbour"
      ],
      "metadata": {
        "id": "IiUS8BlSv-fx"
      }
    },
    {
      "cell_type": "code",
      "source": [
        "from sklearn.neighbors import KNeighborsRegressor\n",
        "model = KNeighborsRegressor(n_neighbors=5)\n",
        "model.fit(X_train, y_train)\n",
        "model.predict(X_test)\n",
        "\n",
        "diameterPrediction  = model.predict(X_test)\n",
        "mse = mean_squared_error(y_test, diameterPrediction)\n",
        "rmse = np.sqrt(mse)\n",
        "print(\"root mean square error : \"+str(rmse))\n",
        "\n",
        "r2 = r2_score(y_test,diameterPrediction)\n",
        "print(\"R2 Score : \",r2)"
      ],
      "metadata": {
        "colab": {
          "base_uri": "https://localhost:8080/"
        },
        "id": "G010XrKlowaM",
        "outputId": "fce5bf0b-21c8-4c53-bca8-09f0e96facb1"
      },
      "execution_count": 79,
      "outputs": [
        {
          "output_type": "stream",
          "name": "stdout",
          "text": [
            "root mean square error : 6.977211284594397\n",
            "R2 Score :  0.5037032109088937\n"
          ]
        }
      ]
    },
    {
      "cell_type": "code",
      "source": [
        "from sklearn.model_selection import KFold\n",
        "KNN = KNeighborsRegressor()\n",
        "seed = 13\n",
        "kfold = KFold(n_splits=3, shuffle=True, random_state=seed)\n",
        "# Define our candidate hyperparameters\n",
        "hp_candidates = [{'n_neighbors': [4,5,6,7], 'weights': ['uniform','distance']}]\n",
        "# Search for best hyperparameters\n",
        "grid = GridSearchCV(estimator=KNN, param_grid=hp_candidates, cv=kfold, scoring='r2')\n",
        "grid.fit(X_train, y_train)"
      ],
      "metadata": {
        "colab": {
          "base_uri": "https://localhost:8080/"
        },
        "id": "stm8UBGbwqTs",
        "outputId": "850380e1-6fd5-4be6-8933-c9c6853a539d"
      },
      "execution_count": 80,
      "outputs": [
        {
          "output_type": "execute_result",
          "data": {
            "text/plain": [
              "GridSearchCV(cv=KFold(n_splits=3, random_state=13, shuffle=True),\n",
              "             estimator=KNeighborsRegressor(),\n",
              "             param_grid=[{'n_neighbors': [4, 5, 6, 7],\n",
              "                          'weights': ['uniform', 'distance']}],\n",
              "             scoring='r2')"
            ]
          },
          "metadata": {},
          "execution_count": 80
        }
      ]
    },
    {
      "cell_type": "code",
      "source": [
        "grid.best_params_"
      ],
      "metadata": {
        "colab": {
          "base_uri": "https://localhost:8080/"
        },
        "id": "YpeH_AEnM4hY",
        "outputId": "f885f5d8-7d18-49a1-9953-c5372179382d"
      },
      "execution_count": 81,
      "outputs": [
        {
          "output_type": "execute_result",
          "data": {
            "text/plain": [
              "{'n_neighbors': 6, 'weights': 'distance'}"
            ]
          },
          "metadata": {},
          "execution_count": 81
        }
      ]
    },
    {
      "cell_type": "code",
      "source": [
        "model = KNeighborsRegressor(n_neighbors=6, weights=\"distance\" )\n",
        "model.fit(X_train, y_train)\n",
        "model.predict(X_test)\n",
        "\n",
        "diameterPrediction  = model.predict(X_test)\n",
        "mse = mean_squared_error(y_test, diameterPrediction)\n",
        "rmse = np.sqrt(mse)\n",
        "print(\"root mean square error : \"+str(rmse))\n",
        "\n",
        "r2 = r2_score(y_test,diameterPrediction)\n",
        "print(\"R2 Score : \",r2)"
      ],
      "metadata": {
        "colab": {
          "base_uri": "https://localhost:8080/"
        },
        "id": "1-hzUspzM7oC",
        "outputId": "c8c33e78-1be9-402e-daa8-086ce70f787e"
      },
      "execution_count": 82,
      "outputs": [
        {
          "output_type": "stream",
          "name": "stdout",
          "text": [
            "root mean square error : 6.959179555055302\n",
            "R2 Score :  0.5062651300500712\n"
          ]
        }
      ]
    },
    {
      "cell_type": "markdown",
      "source": [
        "Support Vector Machines"
      ],
      "metadata": {
        "id": "ZR6HcSv9GAQf"
      }
    },
    {
      "cell_type": "code",
      "source": [
        "from sklearn.svm import SVR\n",
        "model = SVR()\n",
        "model.fit(X_train, y_train)\n",
        "model.predict(X_test)\n",
        "\n",
        "diameterPrediction  = model.predict(X_test)\n",
        "mse = mean_squared_error(y_test, diameterPrediction)\n",
        "rmse = np.sqrt(mse)\n",
        "print(\"root mean square error : \"+str(rmse))\n",
        "\n",
        "r2 = r2_score(y_test,diameterPrediction)\n",
        "print(\"R2 Score : \",r2)"
      ],
      "metadata": {
        "colab": {
          "base_uri": "https://localhost:8080/"
        },
        "id": "L-qerAAbowQv",
        "outputId": "00c82deb-47c3-44ef-be70-61293905c34e"
      },
      "execution_count": 83,
      "outputs": [
        {
          "output_type": "stream",
          "name": "stdout",
          "text": [
            "root mean square error : 7.497232277358639\n",
            "R2 Score :  0.42696697898700176\n"
          ]
        }
      ]
    },
    {
      "cell_type": "code",
      "source": [
        "param_grid = {'C': [0.1, 1, 10, 100, 1000], \n",
        "              'gamma': [1, 0.1, 0.01, 0.001, 0.0001],\n",
        "              'kernel': ['linear','rbf','poly','sigmoid']}\n",
        "grid = GridSearchCV(SVR(), param_grid, refit = True, verbose = 3)\n",
        "grid.fit(X_train, y_train)"
      ],
      "metadata": {
        "colab": {
          "base_uri": "https://localhost:8080/"
        },
        "id": "5mPTELPYowOZ",
        "outputId": "64de9e6b-3df7-47d2-c5c0-e0c331274c9f"
      },
      "execution_count": null,
      "outputs": [
        {
          "output_type": "stream",
          "name": "stdout",
          "text": [
            "Fitting 5 folds for each of 100 candidates, totalling 500 fits\n",
            "[CV 1/5] END .....C=0.1, gamma=1, kernel=linear;, score=0.271 total time= 7.7min\n",
            "[CV 2/5] END .....C=0.1, gamma=1, kernel=linear;, score=0.325 total time= 7.5min\n",
            "[CV 3/5] END .....C=0.1, gamma=1, kernel=linear;, score=0.236 total time= 7.7min\n",
            "[CV 4/5] END .....C=0.1, gamma=1, kernel=linear;, score=0.303 total time= 7.7min\n",
            "[CV 5/5] END .....C=0.1, gamma=1, kernel=linear;, score=0.262 total time= 7.8min\n"
          ]
        }
      ]
    },
    {
      "cell_type": "markdown",
      "source": [
        "Here , Even 5 fold of iteration consumes morethan 40 min.Like this , there will be 60 fold of iteration..It would consume more than 6 hours to give best parameter hint...As soon as get the best parameter and with that retrain the model for best r2 value."
      ],
      "metadata": {
        "id": "Os3ipMrvdFsT"
      }
    }
  ]
}